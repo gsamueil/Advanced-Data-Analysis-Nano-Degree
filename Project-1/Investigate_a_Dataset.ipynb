{
 "cells": [
  {
   "cell_type": "markdown",
   "metadata": {},
   "source": [
    "\n",
    "# Project: Investigate a Dataset No-Show  Medical appointments in Brazil\n",
    "\n",
    "## Table of Contents\n",
    "<ul>\n",
    "<li><a href=\"#intro\">Introduction</a></li>\n",
    "<li><a href=\"#wrangling\">Data Wrangling</a></li>\n",
    "<li><a href=\"#eda\">Exploratory Data Analysis</a></li>\n",
    "<li><a href=\"#conclusions\">Conclusions</a></li>\n",
    "</ul>"
   ]
  },
  {
   "cell_type": "markdown",
   "metadata": {},
   "source": [
    "<a id='intro'></a>\n",
    "\n",
    "<div class=\"alert alert-block alert-info\">\n",
    "    <p><b><h1>Introduction</h1></p>\n",
    "\n",
    "\n",
    "Regarding for my decide to choose this dataset , For that  project I'll analysis the Medical Appointment No Shows dataset, it’s a dataset who holds informations about 110527 rows, 14 important feature column for medical appointments of different patients from different neighborhoods in Brazil.\n",
    "This dataset is built for the purpose of finding out the reasons that made patients  was not showed up at their scheduled appointment. \n",
    "You can see more details about the 14 data's features in the table below:</div>"
   ]
  },
  {
   "cell_type": "markdown",
   "metadata": {},
   "source": [
    "<div class=\"alert alert-block alert-info\">\n",
    "    <b>Tip:</b> <b>(dataset breif) notes.</b> \n",
    "<p>So, it contains one dependent variable called No-Show to show the decision which take the ‘No’ cardinality when the patient shows up at the scheduled appointment and ‘Yes’ when he don't show up, and to understand the reasons for this behavior, 13 other independent variables were collected in parallel with the main information, which is the showing up or not at each medical appointment.</p>\n",
    "\n",
    "</div>"
   ]
  },
  {
   "cell_type": "markdown",
   "metadata": {},
   "source": [
    "| N | Feature | Description |\n",
    "| :- | -: | :-: |\n",
    "| 1 | PatientId |Identification of a patient|\n",
    "| 2 | AppointmentID |The day someone called or registered the appointment, this is before appointment of course.|\n",
    "| 3 | Gender |Male or Female. Female is the greater proportion, woman takes way more care of they health in comparison to man.|\n",
    "| 4 | ScheduledDay |The day of the actuall appointment, when they have to visit the doctor.|\n",
    "| 5 | AppointmentDay |The day someone called or registered the appointment, this is before appointment of course.|\n",
    "| 6 | Age | How old is the patient.|\n",
    "| 7 | Neighbourhood | Where the appointment takes place.|\n",
    "| 8 | Scholarship |True of False . Observation, this is a broad topic|\n",
    "| 9 | Hipertension | True or False|\n",
    "| 10 | Diabetes | True or False|\n",
    "| 11 | Alcoholism | True or False|\n",
    "| 12 | Handcap\t | True or False|\n",
    "| 13 | SMS_received | 1 or more messages sent to the patient.|\n",
    "| 14 | No-show\t |No' the patient showed up;'Yes' for a no-show|\n"
   ]
  },
  {
   "cell_type": "markdown",
   "metadata": {},
   "source": [
    "<div class=\"alert alert-block alert-warning\">\n",
    "<b>dependent And independent </b> \n",
    "In This Project will be purely descriptive,and i will focus on only 9 variables, one dependent variable called <b>No-show</b> and 7 independents variables which are :<b> Gender, Age,scheduled_day, Scholarship, Hipertension, Diabetes,Alcoholism,Handcap,sms_received.</b>\n",
    "</div>"
   ]
  },
  {
   "cell_type": "markdown",
   "metadata": {},
   "source": [
    "<div class=\"alert alert-block alert-info\">\n",
    "    <p><b>Main question:</b></p>\n",
    "</div>\n",
    "\n",
    "What are the factors that may cause patients not to show up at their scheduled medical appointments?\n"
   ]
  },
  {
   "cell_type": "markdown",
   "metadata": {},
   "source": [
    "<div class=\"alert alert-block alert-info\">\n",
    "    <p><b>Intermediate questions</b></p>\n",
    "</div>"
   ]
  },
  {
   "cell_type": "markdown",
   "metadata": {},
   "source": [
    "<ul>\n",
    "<li><a href=\"#1\">1- how manye number of patients appears  for  patient (showed up,no-show) ?</a></li>\n",
    "<li><a href=\"#2\">2- How many number of patients gender (female and are male)? </a></li>\n",
    "<li><a href=\"#3\">3- what's the Rate of no-showing up regarding for each Gender?</a></li>\n",
    "<li><a href=\"#4\">4- How many number of patients gender (female and are male) regarding for age category</a></li>\n",
    "<li><a href=\"#5\">5- Ishow and retreive the table that has  no-showing rate for each age category?</a></li>\n",
    "<li><a href=\"#6\">6- Collect How many patients have( hypertension / don't have it)?</a></li>\n",
    "<li><a href=\"#7\">7- what's the rate of no-showing up at the appointment for each situation of diseases feature ?</a></li>\n",
    "<li><a href=\"#8\">8- what the corrlation between (age/Alcoholism)and that will effect into of no-showing up at the appointment? </a></li>\n",
    "<li><a href=\"#9\">9- what the corrlation between (age / Handcap)and that will effect into of no-showing up at the appointment? </a></li>\n",
    "<li><a href=\"#10\">10-what the corrlation between (age / gender)and that will effect into of no-showing up at the appointment?</a></li>\n",
    "</ul>\n"
   ]
  },
  {
   "cell_type": "markdown",
   "metadata": {},
   "source": [
    "#####  Loading  libraries"
   ]
  },
  {
   "cell_type": "code",
   "execution_count": 1,
   "metadata": {},
   "outputs": [],
   "source": [
    "import pandas as pd\n",
    "import numpy as np\n",
    "import datetime as dt\n",
    "import matplotlib.pyplot as plt\n",
    "% matplotlib inline\n",
    "import warnings\n",
    "warnings.filterwarnings('ignore')\n"
   ]
  },
  {
   "cell_type": "markdown",
   "metadata": {},
   "source": [
    "<a id='wrangling'></a>\n",
    "\n",
    "<div class=\"alert alert-block alert-info\">\n",
    "    <p><b><h1>Data Wrangling</p6></h1></p>\n",
    "</div>\n"
   ]
  },
  {
   "cell_type": "markdown",
   "metadata": {},
   "source": [
    "####  gathering data \n"
   ]
  },
  {
   "cell_type": "code",
   "execution_count": 2,
   "metadata": {},
   "outputs": [
    {
     "data": {
      "text/html": [
       "<div>\n",
       "<style scoped>\n",
       "    .dataframe tbody tr th:only-of-type {\n",
       "        vertical-align: middle;\n",
       "    }\n",
       "\n",
       "    .dataframe tbody tr th {\n",
       "        vertical-align: top;\n",
       "    }\n",
       "\n",
       "    .dataframe thead th {\n",
       "        text-align: right;\n",
       "    }\n",
       "</style>\n",
       "<table border=\"1\" class=\"dataframe\">\n",
       "  <thead>\n",
       "    <tr style=\"text-align: right;\">\n",
       "      <th></th>\n",
       "      <th>PatientId</th>\n",
       "      <th>AppointmentID</th>\n",
       "      <th>Gender</th>\n",
       "      <th>ScheduledDay</th>\n",
       "      <th>AppointmentDay</th>\n",
       "      <th>Age</th>\n",
       "      <th>Neighbourhood</th>\n",
       "      <th>Scholarship</th>\n",
       "      <th>Hipertension</th>\n",
       "      <th>Diabetes</th>\n",
       "      <th>Alcoholism</th>\n",
       "      <th>Handcap</th>\n",
       "      <th>SMS_received</th>\n",
       "      <th>No-show</th>\n",
       "    </tr>\n",
       "  </thead>\n",
       "  <tbody>\n",
       "    <tr>\n",
       "      <th>0</th>\n",
       "      <td>2.987250e+13</td>\n",
       "      <td>5642903</td>\n",
       "      <td>F</td>\n",
       "      <td>2016-04-29T18:38:08Z</td>\n",
       "      <td>2016-04-29T00:00:00Z</td>\n",
       "      <td>62</td>\n",
       "      <td>JARDIM DA PENHA</td>\n",
       "      <td>0</td>\n",
       "      <td>1</td>\n",
       "      <td>0</td>\n",
       "      <td>0</td>\n",
       "      <td>0</td>\n",
       "      <td>0</td>\n",
       "      <td>No</td>\n",
       "    </tr>\n",
       "    <tr>\n",
       "      <th>1</th>\n",
       "      <td>5.589978e+14</td>\n",
       "      <td>5642503</td>\n",
       "      <td>M</td>\n",
       "      <td>2016-04-29T16:08:27Z</td>\n",
       "      <td>2016-04-29T00:00:00Z</td>\n",
       "      <td>56</td>\n",
       "      <td>JARDIM DA PENHA</td>\n",
       "      <td>0</td>\n",
       "      <td>0</td>\n",
       "      <td>0</td>\n",
       "      <td>0</td>\n",
       "      <td>0</td>\n",
       "      <td>0</td>\n",
       "      <td>No</td>\n",
       "    </tr>\n",
       "  </tbody>\n",
       "</table>\n",
       "</div>"
      ],
      "text/plain": [
       "      PatientId  AppointmentID Gender          ScheduledDay  \\\n",
       "0  2.987250e+13        5642903      F  2016-04-29T18:38:08Z   \n",
       "1  5.589978e+14        5642503      M  2016-04-29T16:08:27Z   \n",
       "\n",
       "         AppointmentDay  Age    Neighbourhood  Scholarship  Hipertension  \\\n",
       "0  2016-04-29T00:00:00Z   62  JARDIM DA PENHA            0             1   \n",
       "1  2016-04-29T00:00:00Z   56  JARDIM DA PENHA            0             0   \n",
       "\n",
       "   Diabetes  Alcoholism  Handcap  SMS_received No-show  \n",
       "0         0           0        0             0      No  \n",
       "1         0           0        0             0      No  "
      ]
     },
     "execution_count": 2,
     "metadata": {},
     "output_type": "execute_result"
    }
   ],
   "source": [
    "\n",
    "df_medical=pd.read_csv(\"noshowappointments-kagglev2-may-2016.csv\")\n",
    "df_medical.head(2)\n"
   ]
  },
  {
   "cell_type": "code",
   "execution_count": 3,
   "metadata": {},
   "outputs": [
    {
     "data": {
      "text/plain": [
       "(110527, 14)"
      ]
     },
     "execution_count": 3,
     "metadata": {},
     "output_type": "execute_result"
    }
   ],
   "source": [
    "df_medical.shape"
   ]
  },
  {
   "cell_type": "markdown",
   "metadata": {},
   "source": [
    "#### get information about data"
   ]
  },
  {
   "cell_type": "markdown",
   "metadata": {},
   "source": [
    "missing data will appear following that code "
   ]
  },
  {
   "cell_type": "code",
   "execution_count": 4,
   "metadata": {},
   "outputs": [
    {
     "data": {
      "text/plain": [
       "PatientId         0\n",
       "AppointmentID     0\n",
       "Gender            0\n",
       "ScheduledDay      0\n",
       "AppointmentDay    0\n",
       "Age               0\n",
       "Neighbourhood     0\n",
       "Scholarship       0\n",
       "Hipertension      0\n",
       "Diabetes          0\n",
       "Alcoholism        0\n",
       "Handcap           0\n",
       "SMS_received      0\n",
       "No-show           0\n",
       "dtype: int64"
      ]
     },
     "execution_count": 4,
     "metadata": {},
     "output_type": "execute_result"
    }
   ],
   "source": [
    "\n",
    "df_medical.isnull().sum()"
   ]
  },
  {
   "cell_type": "code",
   "execution_count": 5,
   "metadata": {},
   "outputs": [
    {
     "data": {
      "text/plain": [
       "PatientId         False\n",
       "AppointmentID     False\n",
       "Gender            False\n",
       "ScheduledDay      False\n",
       "AppointmentDay    False\n",
       "Age               False\n",
       "Neighbourhood     False\n",
       "Scholarship       False\n",
       "Hipertension      False\n",
       "Diabetes          False\n",
       "Alcoholism        False\n",
       "Handcap           False\n",
       "SMS_received      False\n",
       "No-show           False\n",
       "dtype: bool"
      ]
     },
     "execution_count": 5,
     "metadata": {},
     "output_type": "execute_result"
    }
   ],
   "source": [
    "# checking for missing values\n",
    "df_medical.isnull().any()"
   ]
  },
  {
   "cell_type": "markdown",
   "metadata": {},
   "source": [
    "##### observation:\n",
    "No Missing Data Appear because all count is zero number and salse for another function .any()"
   ]
  },
  {
   "cell_type": "code",
   "execution_count": 6,
   "metadata": {},
   "outputs": [
    {
     "name": "stdout",
     "output_type": "stream",
     "text": [
      "<class 'pandas.core.frame.DataFrame'>\n",
      "RangeIndex: 110527 entries, 0 to 110526\n",
      "Data columns (total 14 columns):\n",
      "PatientId         110527 non-null float64\n",
      "AppointmentID     110527 non-null int64\n",
      "Gender            110527 non-null object\n",
      "ScheduledDay      110527 non-null object\n",
      "AppointmentDay    110527 non-null object\n",
      "Age               110527 non-null int64\n",
      "Neighbourhood     110527 non-null object\n",
      "Scholarship       110527 non-null int64\n",
      "Hipertension      110527 non-null int64\n",
      "Diabetes          110527 non-null int64\n",
      "Alcoholism        110527 non-null int64\n",
      "Handcap           110527 non-null int64\n",
      "SMS_received      110527 non-null int64\n",
      "No-show           110527 non-null object\n",
      "dtypes: float64(1), int64(8), object(5)\n",
      "memory usage: 11.8+ MB\n"
     ]
    }
   ],
   "source": [
    "df_medical.info()"
   ]
  },
  {
   "cell_type": "markdown",
   "metadata": {},
   "source": [
    "#### observations:\n",
    "\n",
    "- Features name will renamed again.\n",
    "- no missed Data.\n",
    "- \"PatientId\" data type error format that should be change  from 'float' to 'int' that standard naming of any id .\n",
    "- the data type format of 'ScheduledDay' and 'AppointmentDay' an error format, it manadtory change into 'datetime'format.\n",
    "- the variables ['Scholarship', 'Hipertension', 'Diabetes', 'Alcoholism', 'Handcap', 'SMS_received', 'No-show] are Categorical Data\n"
   ]
  },
  {
   "cell_type": "markdown",
   "metadata": {},
   "source": [
    "----------------------------------------------------"
   ]
  },
  {
   "cell_type": "markdown",
   "metadata": {},
   "source": [
    "#### Some Observation for each feature "
   ]
  },
  {
   "cell_type": "markdown",
   "metadata": {},
   "source": [
    "- tring for analysis the age column to retrieve outlier data  \n",
    "- outlier data effect for badly way into the dataset "
   ]
  },
  {
   "cell_type": "code",
   "execution_count": 7,
   "metadata": {},
   "outputs": [
    {
     "name": "stdout",
     "output_type": "stream",
     "text": [
      "age [ -1   0   1   2   3   4   5   6   7   8   9  10  11  12  13  14  15  16\n",
      "  17  18  19  20  21  22  23  24  25  26  27  28  29  30  31  32  33  34\n",
      "  35  36  37  38  39  40  41  42  43  44  45  46  47  48  49  50  51  52\n",
      "  53  54  55  56  57  58  59  60  61  62  63  64  65  66  67  68  69  70\n",
      "  71  72  73  74  75  76  77  78  79  80  81  82  83  84  85  86  87  88\n",
      "  89  90  91  92  93  94  95  96  97  98  99 100 102 115]\n"
     ]
    }
   ],
   "source": [
    "# check the age datas by order\n",
    "df_age = df_medical['Age'].unique()\n",
    "df_age.sort()\n",
    "print('age', df_age)"
   ]
  },
  {
   "cell_type": "markdown",
   "metadata": {},
   "source": [
    "To make sure above i will apply below code to extract outliers"
   ]
  },
  {
   "cell_type": "code",
   "execution_count": 8,
   "metadata": {},
   "outputs": [
    {
     "data": {
      "text/html": [
       "<div>\n",
       "<style scoped>\n",
       "    .dataframe tbody tr th:only-of-type {\n",
       "        vertical-align: middle;\n",
       "    }\n",
       "\n",
       "    .dataframe tbody tr th {\n",
       "        vertical-align: top;\n",
       "    }\n",
       "\n",
       "    .dataframe thead th {\n",
       "        text-align: right;\n",
       "    }\n",
       "</style>\n",
       "<table border=\"1\" class=\"dataframe\">\n",
       "  <thead>\n",
       "    <tr style=\"text-align: right;\">\n",
       "      <th></th>\n",
       "      <th>PatientId</th>\n",
       "      <th>AppointmentID</th>\n",
       "      <th>Gender</th>\n",
       "      <th>ScheduledDay</th>\n",
       "      <th>AppointmentDay</th>\n",
       "      <th>Age</th>\n",
       "      <th>Neighbourhood</th>\n",
       "      <th>Scholarship</th>\n",
       "      <th>Hipertension</th>\n",
       "      <th>Diabetes</th>\n",
       "      <th>Alcoholism</th>\n",
       "      <th>Handcap</th>\n",
       "      <th>SMS_received</th>\n",
       "      <th>No-show</th>\n",
       "    </tr>\n",
       "  </thead>\n",
       "  <tbody>\n",
       "    <tr>\n",
       "      <th>99832</th>\n",
       "      <td>4.659432e+14</td>\n",
       "      <td>5775010</td>\n",
       "      <td>F</td>\n",
       "      <td>2016-06-06T08:58:13Z</td>\n",
       "      <td>2016-06-06T00:00:00Z</td>\n",
       "      <td>-1</td>\n",
       "      <td>ROMÃO</td>\n",
       "      <td>0</td>\n",
       "      <td>0</td>\n",
       "      <td>0</td>\n",
       "      <td>0</td>\n",
       "      <td>0</td>\n",
       "      <td>0</td>\n",
       "      <td>No</td>\n",
       "    </tr>\n",
       "  </tbody>\n",
       "</table>\n",
       "</div>"
      ],
      "text/plain": [
       "          PatientId  AppointmentID Gender          ScheduledDay  \\\n",
       "99832  4.659432e+14        5775010      F  2016-06-06T08:58:13Z   \n",
       "\n",
       "             AppointmentDay  Age Neighbourhood  Scholarship  Hipertension  \\\n",
       "99832  2016-06-06T00:00:00Z   -1         ROMÃO            0             0   \n",
       "\n",
       "       Diabetes  Alcoholism  Handcap  SMS_received No-show  \n",
       "99832         0           0        0             0      No  "
      ]
     },
     "execution_count": 8,
     "metadata": {},
     "output_type": "execute_result"
    }
   ],
   "source": [
    "df_medical[df_medical.Age < 0 ]"
   ]
  },
  {
   "cell_type": "code",
   "execution_count": 9,
   "metadata": {},
   "outputs": [
    {
     "data": {
      "text/plain": [
       " 0      3539\n",
       " 1      2273\n",
       " 52     1746\n",
       " 49     1652\n",
       " 53     1651\n",
       " 56     1635\n",
       " 38     1629\n",
       " 59     1624\n",
       " 2      1618\n",
       " 50     1613\n",
       " 57     1603\n",
       " 36     1580\n",
       " 51     1567\n",
       " 19     1545\n",
       " 39     1536\n",
       " 37     1533\n",
       " 54     1530\n",
       " 34     1526\n",
       " 33     1524\n",
       " 30     1521\n",
       " 6      1521\n",
       " 3      1513\n",
       " 17     1509\n",
       " 32     1505\n",
       " 5      1489\n",
       " 44     1487\n",
       " 18     1487\n",
       " 58     1469\n",
       " 46     1460\n",
       " 45     1453\n",
       "        ... \n",
       " 74      602\n",
       " 76      571\n",
       " 75      544\n",
       " 78      541\n",
       " 77      527\n",
       " 80      511\n",
       " 81      434\n",
       " 82      392\n",
       " 79      390\n",
       " 84      311\n",
       " 83      280\n",
       " 85      275\n",
       " 86      260\n",
       " 87      184\n",
       " 89      173\n",
       " 88      126\n",
       " 90      109\n",
       " 92       86\n",
       " 91       66\n",
       " 93       53\n",
       " 94       33\n",
       " 95       24\n",
       " 96       17\n",
       " 97       11\n",
       " 98        6\n",
       " 115       5\n",
       " 100       4\n",
       " 102       2\n",
       " 99        1\n",
       "-1         1\n",
       "Name: Age, Length: 104, dtype: int64"
      ]
     },
     "execution_count": 9,
     "metadata": {},
     "output_type": "execute_result"
    }
   ],
   "source": [
    "# count appointment numbers for each age\n",
    "df_medical['Age'].value_counts()"
   ]
  },
  {
   "cell_type": "markdown",
   "metadata": {},
   "source": [
    "#### observations:\n",
    "that show one of patient up-normal data the will be outlier more way to handle that but for now i will dorp it in next step in the cleaning data\n",
    "so i will do for that values i ages \n",
    "<b>Some outlier under 0 age (that not logical but we can accept if that babes still on his mother )and more than 100 years because that not normal age in all human for this days so i will drop it</b>"
   ]
  },
  {
   "cell_type": "code",
   "execution_count": 10,
   "metadata": {},
   "outputs": [
    {
     "data": {
      "text/plain": [
       "0"
      ]
     },
     "execution_count": 10,
     "metadata": {},
     "output_type": "execute_result"
    }
   ],
   "source": [
    "# checking for duplicate data\n",
    "df_medical.duplicated().sum()"
   ]
  },
  {
   "cell_type": "markdown",
   "metadata": {},
   "source": [
    "#### observations:\n",
    "that show No Any duplicated any value foe All Rows "
   ]
  },
  {
   "cell_type": "markdown",
   "metadata": {},
   "source": [
    "_________________________"
   ]
  },
  {
   "cell_type": "markdown",
   "metadata": {},
   "source": [
    "Below I will show all unique Values for each Feature (columns) that filter to me who is will be categorical data in each value also to retrieve what will be important to me or has been droped "
   ]
  },
  {
   "cell_type": "code",
   "execution_count": 11,
   "metadata": {},
   "outputs": [
    {
     "data": {
      "text/plain": [
       "PatientId          62299\n",
       "AppointmentID     110527\n",
       "Gender                 2\n",
       "ScheduledDay      103549\n",
       "AppointmentDay        27\n",
       "Age                  104\n",
       "Neighbourhood         81\n",
       "Scholarship            2\n",
       "Hipertension           2\n",
       "Diabetes               2\n",
       "Alcoholism             2\n",
       "Handcap                5\n",
       "SMS_received           2\n",
       "No-show                2\n",
       "dtype: int64"
      ]
     },
     "execution_count": 11,
     "metadata": {},
     "output_type": "execute_result"
    }
   ],
   "source": [
    "# verify the dataset if all changes are done\n",
    "df_medical.nunique()"
   ]
  },
  {
   "cell_type": "markdown",
   "metadata": {},
   "source": [
    "observation \n",
    "for the beganing i will work for 7 independent  variable and i will ignore(PatientId,AppointmentID,Neighbourhood,AppointmentDay )\n",
    "so i observe the Handcap  5 class"
   ]
  },
  {
   "cell_type": "markdown",
   "metadata": {},
   "source": [
    "count the appointment numbers for each handicap level from 0 to 4 "
   ]
  },
  {
   "cell_type": "code",
   "execution_count": 12,
   "metadata": {},
   "outputs": [
    {
     "data": {
      "text/plain": [
       "0    108286\n",
       "1      2042\n",
       "2       183\n",
       "3        13\n",
       "4         3\n",
       "Name: Handcap, dtype: int64"
      ]
     },
     "execution_count": 12,
     "metadata": {},
     "output_type": "execute_result"
    }
   ],
   "source": [
    "\n",
    "df_medical['Handcap'].value_counts()"
   ]
  },
  {
   "cell_type": "markdown",
   "metadata": {},
   "source": [
    "#### observation \n",
    "class 2 and 3 and 4 is outlier values so i will group it into group number 1 "
   ]
  },
  {
   "cell_type": "code",
   "execution_count": 13,
   "metadata": {},
   "outputs": [
    {
     "data": {
      "text/plain": [
       "0    108286\n",
       "1      2241\n",
       "Name: Handcap, dtype: int64"
      ]
     },
     "execution_count": 13,
     "metadata": {},
     "output_type": "execute_result"
    }
   ],
   "source": [
    "# modify all values > 1 in 'Handicap' column to 1\n",
    "df_medical.loc[df_medical.Handcap > 1, 'Handcap'] = 1\n",
    "# verify if Handicap column contains only two values 0 or 1\n",
    "df_medical['Handcap'].value_counts()"
   ]
  },
  {
   "cell_type": "markdown",
   "metadata": {},
   "source": [
    "now the Handcap is two class (0,1)\n"
   ]
  },
  {
   "cell_type": "code",
   "execution_count": 14,
   "metadata": {},
   "outputs": [
    {
     "data": {
      "text/plain": [
       "PatientId          62299\n",
       "AppointmentID     110527\n",
       "Gender                 2\n",
       "ScheduledDay      103549\n",
       "AppointmentDay        27\n",
       "Age                  104\n",
       "Neighbourhood         81\n",
       "Scholarship            2\n",
       "Hipertension           2\n",
       "Diabetes               2\n",
       "Alcoholism             2\n",
       "Handcap                2\n",
       "SMS_received           2\n",
       "No-show                2\n",
       "dtype: int64"
      ]
     },
     "execution_count": 14,
     "metadata": {},
     "output_type": "execute_result"
    }
   ],
   "source": [
    "# verify the dataset if all changes are done\n",
    "df_medical.nunique()"
   ]
  },
  {
   "cell_type": "markdown",
   "metadata": {},
   "source": [
    "now i make sure that is the Handcap is two class (0,1)"
   ]
  },
  {
   "cell_type": "markdown",
   "metadata": {},
   "source": [
    "--------------------------------------\n",
    "--------------------------------------\n",
    "--------------------------------------"
   ]
  },
  {
   "cell_type": "markdown",
   "metadata": {},
   "source": [
    "<b>i exclude this Feaatures{ 'PatientId' ,'AppointmentID' ,'ScheduledDay','AppointmentDay','Neighbourhood' }</b>Because this some there numaric value and other more string value like Neighbourhood that 82 categorical data and also remider features i execlude it "
   ]
  },
  {
   "cell_type": "code",
   "execution_count": 15,
   "metadata": {},
   "outputs": [
    {
     "name": "stdout",
     "output_type": "stream",
     "text": [
      "Only  2  Unique Values in `Gender`=> ['F' 'M']\n",
      "Only  2  Unique Values in `Scholarship`=> [0 1]\n",
      "Only  2  Unique Values in `Hipertension`=> [1 0]\n",
      "Only  2  Unique Values in `Diabetes`=> [0 1]\n",
      "Only  2  Unique Values in `Alcoholism'=> [0 1]\n",
      "Only  2  Unique Values in `Handcap`=> [0 1]\n",
      "Only  2  Unique Values in `SMS_received`=> [0 1]\n",
      "Only  2  Unique Values in `No-show`=> ['No' 'Yes']\n"
     ]
    }
   ],
   "source": [
    "print('Only ',df_medical.Gender.nunique(),\" Unique Values in `Gender`=>\" , df_medical.Gender.unique())\n",
    "print('Only ',df_medical.Scholarship.nunique(),\" Unique Values in `Scholarship`=>\" , df_medical.Scholarship.unique())\n",
    "print('Only ',df_medical.Hipertension.nunique(),\" Unique Values in `Hipertension`=>\" , df_medical.Hipertension.unique())\n",
    "print('Only ',df_medical.Diabetes.nunique(),\" Unique Values in `Diabetes`=>\" , df_medical.Diabetes.unique())\n",
    "print('Only ' ,df_medical.Alcoholism.nunique(),\" Unique Values in `Alcoholism'=>\" , df_medical.Alcoholism.unique())\n",
    "print('Only ',df_medical.Handcap.nunique(),\" Unique Values in `Handcap`=>\" , df_medical.Handcap.unique())\n",
    "print('Only ',df_medical.SMS_received.nunique(),\" Unique Values in `SMS_received`=>\" , df_medical.SMS_received.unique())\n",
    "print('Only ',df_medical['No-show'].nunique(),\" Unique Values in `No-show`=>\" , df_medical['No-show'].unique())\n"
   ]
  },
  {
   "cell_type": "markdown",
   "metadata": {},
   "source": [
    "\n",
    "### Data Cleaning (Replace this with more specific notes!)"
   ]
  },
  {
   "cell_type": "markdown",
   "metadata": {},
   "source": [
    "#### first step for the last Observation in last section \n"
   ]
  },
  {
   "cell_type": "markdown",
   "metadata": {},
   "source": [
    "<div class=\"alert alert-block alert-warning\">\n",
    "\n",
    "- Renaming to relevant column names\n",
    "- Converting variables to the correct data types\n",
    "- Brainstorm some questions\n",
    "</div>"
   ]
  },
  {
   "cell_type": "code",
   "execution_count": 16,
   "metadata": {},
   "outputs": [
    {
     "data": {
      "text/plain": [
       "['PatientId',\n",
       " 'AppointmentID',\n",
       " 'Gender',\n",
       " 'ScheduledDay',\n",
       " 'AppointmentDay',\n",
       " 'Age',\n",
       " 'Neighbourhood',\n",
       " 'Scholarship',\n",
       " 'Hipertension',\n",
       " 'Diabetes',\n",
       " 'Alcoholism',\n",
       " 'Handcap',\n",
       " 'SMS_received',\n",
       " 'No-show']"
      ]
     },
     "execution_count": 16,
     "metadata": {},
     "output_type": "execute_result"
    }
   ],
   "source": [
    "[column for column in df_medical]"
   ]
  },
  {
   "cell_type": "code",
   "execution_count": null,
   "metadata": {},
   "outputs": [],
   "source": []
  },
  {
   "cell_type": "code",
   "execution_count": 17,
   "metadata": {},
   "outputs": [],
   "source": [
    "# Rename incorrect columns' names and makes it all a lower case\n",
    "new_lables = ['patient Id', 'appointment id', 'gender', 'scheduled day',\n",
    "       'appointment day', 'age', 'neighbourhood', 'scholarship', 'hypertension',\n",
    "       'diabetes', 'alcoholism', 'handicap', 'sms received', 'appointment']\n",
    "df_medical.columns = new_lables"
   ]
  },
  {
   "cell_type": "code",
   "execution_count": 18,
   "metadata": {},
   "outputs": [
    {
     "data": {
      "text/html": [
       "<div>\n",
       "<style scoped>\n",
       "    .dataframe tbody tr th:only-of-type {\n",
       "        vertical-align: middle;\n",
       "    }\n",
       "\n",
       "    .dataframe tbody tr th {\n",
       "        vertical-align: top;\n",
       "    }\n",
       "\n",
       "    .dataframe thead th {\n",
       "        text-align: right;\n",
       "    }\n",
       "</style>\n",
       "<table border=\"1\" class=\"dataframe\">\n",
       "  <thead>\n",
       "    <tr style=\"text-align: right;\">\n",
       "      <th></th>\n",
       "      <th>patient_id</th>\n",
       "      <th>appointment_id</th>\n",
       "      <th>gender</th>\n",
       "      <th>scheduled_day</th>\n",
       "      <th>appointment_day</th>\n",
       "      <th>age</th>\n",
       "      <th>neighbourhood</th>\n",
       "      <th>scholarship</th>\n",
       "      <th>hypertension</th>\n",
       "      <th>diabetes</th>\n",
       "      <th>alcoholism</th>\n",
       "      <th>handicap</th>\n",
       "      <th>sms_received</th>\n",
       "      <th>appointment</th>\n",
       "    </tr>\n",
       "  </thead>\n",
       "  <tbody>\n",
       "    <tr>\n",
       "      <th>0</th>\n",
       "      <td>2.987250e+13</td>\n",
       "      <td>5642903</td>\n",
       "      <td>F</td>\n",
       "      <td>2016-04-29T18:38:08Z</td>\n",
       "      <td>2016-04-29T00:00:00Z</td>\n",
       "      <td>62</td>\n",
       "      <td>JARDIM DA PENHA</td>\n",
       "      <td>0</td>\n",
       "      <td>1</td>\n",
       "      <td>0</td>\n",
       "      <td>0</td>\n",
       "      <td>0</td>\n",
       "      <td>0</td>\n",
       "      <td>No</td>\n",
       "    </tr>\n",
       "  </tbody>\n",
       "</table>\n",
       "</div>"
      ],
      "text/plain": [
       "     patient_id  appointment_id gender         scheduled_day  \\\n",
       "0  2.987250e+13         5642903      F  2016-04-29T18:38:08Z   \n",
       "\n",
       "        appointment_day  age    neighbourhood  scholarship  hypertension  \\\n",
       "0  2016-04-29T00:00:00Z   62  JARDIM DA PENHA            0             1   \n",
       "\n",
       "   diabetes  alcoholism  handicap  sms_received appointment  \n",
       "0         0           0         0             0          No  "
      ]
     },
     "execution_count": 18,
     "metadata": {},
     "output_type": "execute_result"
    }
   ],
   "source": [
    "# replace spaces with underscores and lowercase labels for 2008 dataset\n",
    "df_medical.rename(columns=lambda x: x.strip().lower().replace(\" \", \"_\"), inplace=True)\n",
    "\n",
    "# confirm changes\n",
    "df_medical.head(1)"
   ]
  },
  {
   "cell_type": "markdown",
   "metadata": {},
   "source": [
    "Convert Patient_Id from Float to Integer because patient id must be unique and integer value as standard defination for create any ID "
   ]
  },
  {
   "cell_type": "code",
   "execution_count": 19,
   "metadata": {},
   "outputs": [],
   "source": [
    "\n",
    "df_medical['patient_id'] = df_medical['patient_id'].astype('int64')"
   ]
  },
  {
   "cell_type": "markdown",
   "metadata": {},
   "source": [
    " convert all the categorical variables Data from 'int' to 'category' type because Categorical data is a collection of information that is divided into groups"
   ]
  },
  {
   "cell_type": "markdown",
   "metadata": {},
   "source": [
    "##### Types of Categorical Data \n",
    "- Nominal Data\n",
    "- Ordinal Data"
   ]
  },
  {
   "cell_type": "markdown",
   "metadata": {},
   "source": [
    "below we will convert binary value into categorical value "
   ]
  },
  {
   "cell_type": "markdown",
   "metadata": {},
   "source": [
    "| N | Feature | Categorical |\n",
    "| :- | -: | :-: |\n",
    "| 1 | Gender |['F','M']|\n",
    "| 2 | Scholarship |[0 1]|\n",
    "| 3 | Hipertension |[1 0]|\n",
    "| 4 | Diabetes |[0 1]|\n",
    "| 5 | Alcoholism |[0 1]|\n",
    "| 6 | Handcap |[0 1]|\n",
    "| 7 | SMS_received |[0 1]|\n",
    "| 8 | No-Show |['No',Yes']|"
   ]
  },
  {
   "cell_type": "code",
   "execution_count": 20,
   "metadata": {},
   "outputs": [],
   "source": [
    "df_medical['gender'] = df_medical['gender'].astype('category')\n",
    "df_medical['scholarship'] = df_medical['scholarship'].astype('category')\n",
    "df_medical['hypertension'] = df_medical['hypertension'].astype('category')\n",
    "df_medical['diabetes'] = df_medical['diabetes'].astype('category')\n",
    "df_medical['alcoholism'] = df_medical['alcoholism'].astype('category')\n",
    "df_medical['handicap'] = df_medical['handicap'].astype('category')\n",
    "df_medical['sms_received'] = df_medical['sms_received'].astype('category')\n",
    "df_medical['appointment'] = df_medical.appointment.astype('category')"
   ]
  },
  {
   "cell_type": "code",
   "execution_count": 21,
   "metadata": {},
   "outputs": [],
   "source": [
    "\n",
    "df_medical.gender.cat.rename_categories(['Female','Male'], inplace = True)\n",
    "df_medical.scholarship.cat.rename_categories(['No Scholarship','Scholarship'], inplace = True)\n",
    "df_medical.hypertension.cat.rename_categories(['No Hypertension','Hypertension'], inplace = True)\n",
    "df_medical.diabetes.cat.rename_categories(['No Diabetes','Diabetes'], inplace = True);\n",
    "df_medical.alcoholism.cat.rename_categories(['No alcoholism','alcoholism'], inplace = True)\n",
    "df_medical.handicap.cat.rename_categories(['No handicap','handicap'], inplace = True);\n",
    "df_medical.sms_received.cat.rename_categories(['No sms_received','sms_received'], inplace = True)\n",
    "df_medical.appointment.cat.rename_categories(['Show','No Show'], inplace = True)"
   ]
  },
  {
   "cell_type": "code",
   "execution_count": 22,
   "metadata": {},
   "outputs": [
    {
     "data": {
      "text/html": [
       "<div>\n",
       "<style scoped>\n",
       "    .dataframe tbody tr th:only-of-type {\n",
       "        vertical-align: middle;\n",
       "    }\n",
       "\n",
       "    .dataframe tbody tr th {\n",
       "        vertical-align: top;\n",
       "    }\n",
       "\n",
       "    .dataframe thead th {\n",
       "        text-align: right;\n",
       "    }\n",
       "</style>\n",
       "<table border=\"1\" class=\"dataframe\">\n",
       "  <thead>\n",
       "    <tr style=\"text-align: right;\">\n",
       "      <th></th>\n",
       "      <th>patient_id</th>\n",
       "      <th>appointment_id</th>\n",
       "      <th>gender</th>\n",
       "      <th>scheduled_day</th>\n",
       "      <th>appointment_day</th>\n",
       "      <th>age</th>\n",
       "      <th>neighbourhood</th>\n",
       "      <th>scholarship</th>\n",
       "      <th>hypertension</th>\n",
       "      <th>diabetes</th>\n",
       "      <th>alcoholism</th>\n",
       "      <th>handicap</th>\n",
       "      <th>sms_received</th>\n",
       "      <th>appointment</th>\n",
       "    </tr>\n",
       "  </thead>\n",
       "  <tbody>\n",
       "    <tr>\n",
       "      <th>0</th>\n",
       "      <td>29872499824296</td>\n",
       "      <td>5642903</td>\n",
       "      <td>Female</td>\n",
       "      <td>2016-04-29</td>\n",
       "      <td>2016-04-29</td>\n",
       "      <td>62</td>\n",
       "      <td>JARDIM DA PENHA</td>\n",
       "      <td>No Scholarship</td>\n",
       "      <td>Hypertension</td>\n",
       "      <td>No Diabetes</td>\n",
       "      <td>No alcoholism</td>\n",
       "      <td>No handicap</td>\n",
       "      <td>No sms_received</td>\n",
       "      <td>Show</td>\n",
       "    </tr>\n",
       "    <tr>\n",
       "      <th>1</th>\n",
       "      <td>558997776694438</td>\n",
       "      <td>5642503</td>\n",
       "      <td>Male</td>\n",
       "      <td>2016-04-29</td>\n",
       "      <td>2016-04-29</td>\n",
       "      <td>56</td>\n",
       "      <td>JARDIM DA PENHA</td>\n",
       "      <td>No Scholarship</td>\n",
       "      <td>No Hypertension</td>\n",
       "      <td>No Diabetes</td>\n",
       "      <td>No alcoholism</td>\n",
       "      <td>No handicap</td>\n",
       "      <td>No sms_received</td>\n",
       "      <td>Show</td>\n",
       "    </tr>\n",
       "    <tr>\n",
       "      <th>2</th>\n",
       "      <td>4262962299951</td>\n",
       "      <td>5642549</td>\n",
       "      <td>Female</td>\n",
       "      <td>2016-04-29</td>\n",
       "      <td>2016-04-29</td>\n",
       "      <td>62</td>\n",
       "      <td>MATA DA PRAIA</td>\n",
       "      <td>No Scholarship</td>\n",
       "      <td>No Hypertension</td>\n",
       "      <td>No Diabetes</td>\n",
       "      <td>No alcoholism</td>\n",
       "      <td>No handicap</td>\n",
       "      <td>No sms_received</td>\n",
       "      <td>Show</td>\n",
       "    </tr>\n",
       "    <tr>\n",
       "      <th>3</th>\n",
       "      <td>867951213174</td>\n",
       "      <td>5642828</td>\n",
       "      <td>Female</td>\n",
       "      <td>2016-04-29</td>\n",
       "      <td>2016-04-29</td>\n",
       "      <td>8</td>\n",
       "      <td>PONTAL DE CAMBURI</td>\n",
       "      <td>No Scholarship</td>\n",
       "      <td>No Hypertension</td>\n",
       "      <td>No Diabetes</td>\n",
       "      <td>No alcoholism</td>\n",
       "      <td>No handicap</td>\n",
       "      <td>No sms_received</td>\n",
       "      <td>Show</td>\n",
       "    </tr>\n",
       "    <tr>\n",
       "      <th>4</th>\n",
       "      <td>8841186448183</td>\n",
       "      <td>5642494</td>\n",
       "      <td>Female</td>\n",
       "      <td>2016-04-29</td>\n",
       "      <td>2016-04-29</td>\n",
       "      <td>56</td>\n",
       "      <td>JARDIM DA PENHA</td>\n",
       "      <td>No Scholarship</td>\n",
       "      <td>Hypertension</td>\n",
       "      <td>Diabetes</td>\n",
       "      <td>No alcoholism</td>\n",
       "      <td>No handicap</td>\n",
       "      <td>No sms_received</td>\n",
       "      <td>Show</td>\n",
       "    </tr>\n",
       "  </tbody>\n",
       "</table>\n",
       "</div>"
      ],
      "text/plain": [
       "        patient_id  appointment_id  gender scheduled_day appointment_day  age  \\\n",
       "0   29872499824296         5642903  Female    2016-04-29      2016-04-29   62   \n",
       "1  558997776694438         5642503    Male    2016-04-29      2016-04-29   56   \n",
       "2    4262962299951         5642549  Female    2016-04-29      2016-04-29   62   \n",
       "3     867951213174         5642828  Female    2016-04-29      2016-04-29    8   \n",
       "4    8841186448183         5642494  Female    2016-04-29      2016-04-29   56   \n",
       "\n",
       "       neighbourhood     scholarship     hypertension     diabetes  \\\n",
       "0    JARDIM DA PENHA  No Scholarship     Hypertension  No Diabetes   \n",
       "1    JARDIM DA PENHA  No Scholarship  No Hypertension  No Diabetes   \n",
       "2      MATA DA PRAIA  No Scholarship  No Hypertension  No Diabetes   \n",
       "3  PONTAL DE CAMBURI  No Scholarship  No Hypertension  No Diabetes   \n",
       "4    JARDIM DA PENHA  No Scholarship     Hypertension     Diabetes   \n",
       "\n",
       "      alcoholism     handicap     sms_received appointment  \n",
       "0  No alcoholism  No handicap  No sms_received        Show  \n",
       "1  No alcoholism  No handicap  No sms_received        Show  \n",
       "2  No alcoholism  No handicap  No sms_received        Show  \n",
       "3  No alcoholism  No handicap  No sms_received        Show  \n",
       "4  No alcoholism  No handicap  No sms_received        Show  "
      ]
     },
     "execution_count": 22,
     "metadata": {},
     "output_type": "execute_result"
    }
   ],
   "source": [
    "# Convert 'scheduled_day' and 'appointment_day' from 'object' type to 'datetime64[ns]'\n",
    "df_medical['scheduled_day'] = pd.to_datetime(df_medical['scheduled_day']).dt.date.astype('datetime64[ns]')\n",
    "df_medical['appointment_day'] = pd.to_datetime(df_medical['appointment_day']).dt.date.astype('datetime64[ns]')\n",
    "\n",
    "df_medical.head()\n"
   ]
  },
  {
   "cell_type": "code",
   "execution_count": 23,
   "metadata": {},
   "outputs": [
    {
     "name": "stdout",
     "output_type": "stream",
     "text": [
      "<class 'pandas.core.frame.DataFrame'>\n",
      "RangeIndex: 110527 entries, 0 to 110526\n",
      "Data columns (total 14 columns):\n",
      "patient_id         110527 non-null int64\n",
      "appointment_id     110527 non-null int64\n",
      "gender             110527 non-null category\n",
      "scheduled_day      110527 non-null datetime64[ns]\n",
      "appointment_day    110527 non-null datetime64[ns]\n",
      "age                110527 non-null int64\n",
      "neighbourhood      110527 non-null object\n",
      "scholarship        110527 non-null category\n",
      "hypertension       110527 non-null category\n",
      "diabetes           110527 non-null category\n",
      "alcoholism         110527 non-null category\n",
      "handicap           110527 non-null category\n",
      "sms_received       110527 non-null category\n",
      "appointment        110527 non-null category\n",
      "dtypes: category(8), datetime64[ns](2), int64(3), object(1)\n",
      "memory usage: 5.9+ MB\n"
     ]
    }
   ],
   "source": [
    "df_medical.info()"
   ]
  },
  {
   "cell_type": "code",
   "execution_count": 24,
   "metadata": {},
   "outputs": [
    {
     "name": "stdout",
     "output_type": "stream",
     "text": [
      "(110527, 14)\n"
     ]
    },
    {
     "data": {
      "text/html": [
       "<div>\n",
       "<style scoped>\n",
       "    .dataframe tbody tr th:only-of-type {\n",
       "        vertical-align: middle;\n",
       "    }\n",
       "\n",
       "    .dataframe tbody tr th {\n",
       "        vertical-align: top;\n",
       "    }\n",
       "\n",
       "    .dataframe thead th {\n",
       "        text-align: right;\n",
       "    }\n",
       "</style>\n",
       "<table border=\"1\" class=\"dataframe\">\n",
       "  <thead>\n",
       "    <tr style=\"text-align: right;\">\n",
       "      <th></th>\n",
       "      <th>patient_id</th>\n",
       "      <th>appointment_id</th>\n",
       "      <th>gender</th>\n",
       "      <th>scheduled_day</th>\n",
       "      <th>appointment_day</th>\n",
       "      <th>age</th>\n",
       "      <th>neighbourhood</th>\n",
       "      <th>scholarship</th>\n",
       "      <th>hypertension</th>\n",
       "      <th>diabetes</th>\n",
       "      <th>alcoholism</th>\n",
       "      <th>handicap</th>\n",
       "      <th>sms_received</th>\n",
       "      <th>appointment</th>\n",
       "    </tr>\n",
       "  </thead>\n",
       "  <tbody>\n",
       "    <tr>\n",
       "      <th>99832</th>\n",
       "      <td>465943158731293</td>\n",
       "      <td>5775010</td>\n",
       "      <td>Female</td>\n",
       "      <td>2016-06-06</td>\n",
       "      <td>2016-06-06</td>\n",
       "      <td>-1</td>\n",
       "      <td>ROMÃO</td>\n",
       "      <td>No Scholarship</td>\n",
       "      <td>No Hypertension</td>\n",
       "      <td>No Diabetes</td>\n",
       "      <td>No alcoholism</td>\n",
       "      <td>No handicap</td>\n",
       "      <td>No sms_received</td>\n",
       "      <td>Show</td>\n",
       "    </tr>\n",
       "  </tbody>\n",
       "</table>\n",
       "</div>"
      ],
      "text/plain": [
       "            patient_id  appointment_id  gender scheduled_day appointment_day  \\\n",
       "99832  465943158731293         5775010  Female    2016-06-06      2016-06-06   \n",
       "\n",
       "       age neighbourhood     scholarship     hypertension     diabetes  \\\n",
       "99832   -1         ROMÃO  No Scholarship  No Hypertension  No Diabetes   \n",
       "\n",
       "          alcoholism     handicap     sms_received appointment  \n",
       "99832  No alcoholism  No handicap  No sms_received        Show  "
      ]
     },
     "execution_count": 24,
     "metadata": {},
     "output_type": "execute_result"
    }
   ],
   "source": [
    "# Row with incorrect age value (-1)\n",
    "incorrect_row = df_medical[df_medical['age'] == -1].index\n",
    "print(df_medical.shape)\n",
    "df_medical[df_medical['age'] == -1]"
   ]
  },
  {
   "cell_type": "code",
   "execution_count": 25,
   "metadata": {},
   "outputs": [
    {
     "name": "stdout",
     "output_type": "stream",
     "text": [
      "(110526, 14)\n"
     ]
    },
    {
     "data": {
      "text/html": [
       "<div>\n",
       "<style scoped>\n",
       "    .dataframe tbody tr th:only-of-type {\n",
       "        vertical-align: middle;\n",
       "    }\n",
       "\n",
       "    .dataframe tbody tr th {\n",
       "        vertical-align: top;\n",
       "    }\n",
       "\n",
       "    .dataframe thead th {\n",
       "        text-align: right;\n",
       "    }\n",
       "</style>\n",
       "<table border=\"1\" class=\"dataframe\">\n",
       "  <thead>\n",
       "    <tr style=\"text-align: right;\">\n",
       "      <th></th>\n",
       "      <th>patient_id</th>\n",
       "      <th>appointment_id</th>\n",
       "      <th>gender</th>\n",
       "      <th>scheduled_day</th>\n",
       "      <th>appointment_day</th>\n",
       "      <th>age</th>\n",
       "      <th>neighbourhood</th>\n",
       "      <th>scholarship</th>\n",
       "      <th>hypertension</th>\n",
       "      <th>diabetes</th>\n",
       "      <th>alcoholism</th>\n",
       "      <th>handicap</th>\n",
       "      <th>sms_received</th>\n",
       "      <th>appointment</th>\n",
       "    </tr>\n",
       "  </thead>\n",
       "  <tbody>\n",
       "  </tbody>\n",
       "</table>\n",
       "</div>"
      ],
      "text/plain": [
       "Empty DataFrame\n",
       "Columns: [patient_id, appointment_id, gender, scheduled_day, appointment_day, age, neighbourhood, scholarship, hypertension, diabetes, alcoholism, handicap, sms_received, appointment]\n",
       "Index: []"
      ]
     },
     "execution_count": 25,
     "metadata": {},
     "output_type": "execute_result"
    }
   ],
   "source": [
    "# Removing the row with incorrect age value (-1)\n",
    "df_medical.drop(incorrect_row ,axis=0,inplace=True)\n",
    "print(df_medical.shape)\n",
    "df_medical[df_medical.age == -1]"
   ]
  },
  {
   "cell_type": "code",
   "execution_count": 26,
   "metadata": {},
   "outputs": [],
   "source": [
    "# create 'age_category' variable for make the analysis easier\n",
    "df_medical['age_category'] = pd.cut(df_medical.age,bins=[-1,2,19,39,40,79,97,116],labels=['0 - 2','3 - 19','20 - 39','40 - 59', '60 - 79','80 - 97','98-115'],)\n"
   ]
  },
  {
   "cell_type": "code",
   "execution_count": 27,
   "metadata": {},
   "outputs": [
    {
     "data": {
      "text/html": [
       "<div>\n",
       "<style scoped>\n",
       "    .dataframe tbody tr th:only-of-type {\n",
       "        vertical-align: middle;\n",
       "    }\n",
       "\n",
       "    .dataframe tbody tr th {\n",
       "        vertical-align: top;\n",
       "    }\n",
       "\n",
       "    .dataframe thead th {\n",
       "        text-align: right;\n",
       "    }\n",
       "</style>\n",
       "<table border=\"1\" class=\"dataframe\">\n",
       "  <thead>\n",
       "    <tr style=\"text-align: right;\">\n",
       "      <th></th>\n",
       "      <th>gender</th>\n",
       "      <th>scheduled_day</th>\n",
       "      <th>age</th>\n",
       "      <th>scholarship</th>\n",
       "      <th>hypertension</th>\n",
       "      <th>diabetes</th>\n",
       "      <th>alcoholism</th>\n",
       "      <th>handicap</th>\n",
       "      <th>sms_received</th>\n",
       "      <th>appointment</th>\n",
       "      <th>age_category</th>\n",
       "    </tr>\n",
       "  </thead>\n",
       "  <tbody>\n",
       "    <tr>\n",
       "      <th>0</th>\n",
       "      <td>Female</td>\n",
       "      <td>2016-04-29</td>\n",
       "      <td>62</td>\n",
       "      <td>No Scholarship</td>\n",
       "      <td>Hypertension</td>\n",
       "      <td>No Diabetes</td>\n",
       "      <td>No alcoholism</td>\n",
       "      <td>No handicap</td>\n",
       "      <td>No sms_received</td>\n",
       "      <td>Show</td>\n",
       "      <td>60 - 79</td>\n",
       "    </tr>\n",
       "    <tr>\n",
       "      <th>1</th>\n",
       "      <td>Male</td>\n",
       "      <td>2016-04-29</td>\n",
       "      <td>56</td>\n",
       "      <td>No Scholarship</td>\n",
       "      <td>No Hypertension</td>\n",
       "      <td>No Diabetes</td>\n",
       "      <td>No alcoholism</td>\n",
       "      <td>No handicap</td>\n",
       "      <td>No sms_received</td>\n",
       "      <td>Show</td>\n",
       "      <td>60 - 79</td>\n",
       "    </tr>\n",
       "    <tr>\n",
       "      <th>2</th>\n",
       "      <td>Female</td>\n",
       "      <td>2016-04-29</td>\n",
       "      <td>62</td>\n",
       "      <td>No Scholarship</td>\n",
       "      <td>No Hypertension</td>\n",
       "      <td>No Diabetes</td>\n",
       "      <td>No alcoholism</td>\n",
       "      <td>No handicap</td>\n",
       "      <td>No sms_received</td>\n",
       "      <td>Show</td>\n",
       "      <td>60 - 79</td>\n",
       "    </tr>\n",
       "    <tr>\n",
       "      <th>3</th>\n",
       "      <td>Female</td>\n",
       "      <td>2016-04-29</td>\n",
       "      <td>8</td>\n",
       "      <td>No Scholarship</td>\n",
       "      <td>No Hypertension</td>\n",
       "      <td>No Diabetes</td>\n",
       "      <td>No alcoholism</td>\n",
       "      <td>No handicap</td>\n",
       "      <td>No sms_received</td>\n",
       "      <td>Show</td>\n",
       "      <td>3 - 19</td>\n",
       "    </tr>\n",
       "    <tr>\n",
       "      <th>4</th>\n",
       "      <td>Female</td>\n",
       "      <td>2016-04-29</td>\n",
       "      <td>56</td>\n",
       "      <td>No Scholarship</td>\n",
       "      <td>Hypertension</td>\n",
       "      <td>Diabetes</td>\n",
       "      <td>No alcoholism</td>\n",
       "      <td>No handicap</td>\n",
       "      <td>No sms_received</td>\n",
       "      <td>Show</td>\n",
       "      <td>60 - 79</td>\n",
       "    </tr>\n",
       "  </tbody>\n",
       "</table>\n",
       "</div>"
      ],
      "text/plain": [
       "   gender scheduled_day  age     scholarship     hypertension     diabetes  \\\n",
       "0  Female    2016-04-29   62  No Scholarship     Hypertension  No Diabetes   \n",
       "1    Male    2016-04-29   56  No Scholarship  No Hypertension  No Diabetes   \n",
       "2  Female    2016-04-29   62  No Scholarship  No Hypertension  No Diabetes   \n",
       "3  Female    2016-04-29    8  No Scholarship  No Hypertension  No Diabetes   \n",
       "4  Female    2016-04-29   56  No Scholarship     Hypertension     Diabetes   \n",
       "\n",
       "      alcoholism     handicap     sms_received appointment age_category  \n",
       "0  No alcoholism  No handicap  No sms_received        Show      60 - 79  \n",
       "1  No alcoholism  No handicap  No sms_received        Show      60 - 79  \n",
       "2  No alcoholism  No handicap  No sms_received        Show      60 - 79  \n",
       "3  No alcoholism  No handicap  No sms_received        Show       3 - 19  \n",
       "4  No alcoholism  No handicap  No sms_received        Show      60 - 79  "
      ]
     },
     "execution_count": 27,
     "metadata": {},
     "output_type": "execute_result"
    }
   ],
   "source": [
    "# Trimming data regarding the variables needed in my research questions\n",
    "df_medical = df_medical.iloc[: , np.r_[2:4,5:6,7:15]]\n",
    "\n",
    "df_medical.head()"
   ]
  },
  {
   "cell_type": "markdown",
   "metadata": {},
   "source": [
    "<a id='eda'></a>\n",
    "\n",
    "<a id='intro'></a>\n",
    "\n",
    "<div class=\"alert alert-block alert-info\">\n",
    "    <p><b><h1> Exploratory Data Analysis</h1></p></div>\n",
    "\n",
    "\n"
   ]
  },
  {
   "cell_type": "markdown",
   "metadata": {},
   "source": [
    "\n",
    "<a id='1'></a>\n",
    "<div class=\"alert alert-block alert-warning\">\n",
    "    <p><b> \n",
    "1- how manye number of patients appears  for  patient (showed up,no-show) ?</p></div>\n"
   ]
  },
  {
   "cell_type": "code",
   "execution_count": 28,
   "metadata": {},
   "outputs": [
    {
     "name": "stdout",
     "output_type": "stream",
     "text": [
      "appointment\n",
      "Show       88207\n",
      "No Show    22319\n",
      "Name: appointment, dtype: int64\n",
      "\n",
      " Total Number from  110526  patents:- \n",
      " there are  22319  patients showed up , which represents 201.9 % of the total sum, \n",
      " and  88207  patients no show, which represents 798.1 % of the total sum.\n"
     ]
    }
   ],
   "source": [
    "# number of patients grouping by 'appointment' variable\n",
    "G_Patient= df_medical.groupby('appointment')['appointment'].count()\n",
    "sum_G_Patient = G_Patient.sum()\n",
    "print(G_Patient)\n",
    "print('\\n Total Number from ',sum_G_Patient,' patents:- \\n there are ', G_Patient[1], ' patients showed up , which represents', \n",
    "      np.round(G_Patient[1]/sum_G_Patient,4)*1000, '% of the total sum,','\\n and ',G_Patient[0], ' patients no show, which represents', \n",
    "      np.round(G_Patient[0]/sum_G_Patient,4)*1000, '% of the total sum.')"
   ]
  },
  {
   "cell_type": "markdown",
   "metadata": {},
   "source": [
    "Show The Details and breif describtion of how manye number of patients appears for patient (showed up,no-show)\n",
    "patient_group with index group/sum of all G_Patient,4)*100,"
   ]
  },
  {
   "cell_type": "code",
   "execution_count": 29,
   "metadata": {},
   "outputs": [
    {
     "data": {
      "image/png": "[encoded data removed]",
      "text/plain": [
       "<matplotlib.figure.Figure at 0x7f117bf7e4e0>"
      ]
     },
     "metadata": {},
     "output_type": "display_data"
    }
   ],
   "source": [
    "# draw a pie graph to show the percentage of the patients presented or not\n",
    "sizes = np.array([G_Patient[0], G_Patient[1]])\n",
    "labels = 'Shown', 'No Shown'\n",
    "colors = [\"lightskyblue\", \"gold\"]\n",
    "explode = [0.2, 0]\n",
    "plt.pie(sizes, labels = labels, colors = colors, explode = explode, shadow = True, autopct = '%.2f%%', radius = 1.5)\n",
    "plt.title('Percentage of present patients', fontsize = 17, loc = 'center', color = 'k')\n",
    "plt.axis('equal') # equal aspect ratio to ensure that pie is drawn as a circle\n",
    "plt.show()\n"
   ]
  },
  {
   "cell_type": "markdown",
   "metadata": {},
   "source": [
    "\n",
    "79.8% of the total patients showed up at their appointments.\n",
    "20.2% of the total patients not showed up at their appointments."
   ]
  },
  {
   "cell_type": "markdown",
   "metadata": {},
   "source": [
    "\n",
    "<a id='2'></a>\n",
    "<div class=\"alert alert-block alert-warning\">\n",
    "    <p><b> \n",
    "2- How many number of patients gender (female and are male) and also regarding for age category  ?</p></div>\n",
    "\n",
    "\n"
   ]
  },
  {
   "cell_type": "code",
   "execution_count": 30,
   "metadata": {},
   "outputs": [
    {
     "data": {
      "text/html": [
       "<div>\n",
       "<style scoped>\n",
       "    .dataframe tbody tr th:only-of-type {\n",
       "        vertical-align: middle;\n",
       "    }\n",
       "\n",
       "    .dataframe tbody tr th {\n",
       "        vertical-align: top;\n",
       "    }\n",
       "\n",
       "    .dataframe thead th {\n",
       "        text-align: right;\n",
       "    }\n",
       "</style>\n",
       "<table border=\"1\" class=\"dataframe\">\n",
       "  <thead>\n",
       "    <tr style=\"text-align: right;\">\n",
       "      <th></th>\n",
       "      <th>count</th>\n",
       "    </tr>\n",
       "    <tr>\n",
       "      <th>gender</th>\n",
       "      <th></th>\n",
       "    </tr>\n",
       "  </thead>\n",
       "  <tbody>\n",
       "    <tr>\n",
       "      <th>Female</th>\n",
       "      <td>71839</td>\n",
       "    </tr>\n",
       "    <tr>\n",
       "      <th>Male</th>\n",
       "      <td>38687</td>\n",
       "    </tr>\n",
       "  </tbody>\n",
       "</table>\n",
       "</div>"
      ],
      "text/plain": [
       "        count\n",
       "gender       \n",
       "Female  71839\n",
       "Male    38687"
      ]
     },
     "execution_count": 30,
     "metadata": {},
     "output_type": "execute_result"
    }
   ],
   "source": [
    "df_medical.groupby('gender').appointment.agg(['count'])"
   ]
  },
  {
   "cell_type": "code",
   "execution_count": 31,
   "metadata": {},
   "outputs": [
    {
     "name": "stdout",
     "output_type": "stream",
     "text": [
      "                     count\n",
      "age_category gender       \n",
      "0 - 2        Female   3566\n",
      "             Male     3864\n",
      "3 - 19       Female  12511\n",
      "             Male    10470\n",
      "20 - 39      Female  20897\n",
      "             Male     7973\n",
      "40 - 59      Female    923\n",
      "             Male      479\n",
      "60 - 79      Female  31658\n",
      "             Male    14822\n",
      "80 - 97      Female   2269\n",
      "             Male     1076\n",
      "98-115       Female     15\n",
      "             Male        3\n"
     ]
    },
    {
     "data": {
      "image/png": "[encoded data removed]",
      "text/plain": [
       "<matplotlib.figure.Figure at 0x7f117c54a8d0>"
      ]
     },
     "metadata": {
      "needs_background": "light"
     },
     "output_type": "display_data"
    },
    {
     "data": {
      "text/plain": [
       "count    31658\n",
       "dtype: int64"
      ]
     },
     "execution_count": 31,
     "metadata": {},
     "output_type": "execute_result"
    }
   ],
   "source": [
    "plot2=df_medical.groupby(['age_category','gender']).gender.agg(['count'])\n",
    "print(plot2)\n",
    "df_medical.groupby(['age_category','gender']).size().unstack().plot(kind='bar',stacked=True)\n",
    "plt.show()\n",
    "\n",
    "plot2.max()"
   ]
  },
  {
   "cell_type": "markdown",
   "metadata": {},
   "source": [
    "another method "
   ]
  },
  {
   "cell_type": "code",
   "execution_count": 32,
   "metadata": {},
   "outputs": [
    {
     "name": "stdout",
     "output_type": "stream",
     "text": [
      "gender\n",
      "Female    71839\n",
      "Male      38687\n",
      "Name: gender, dtype: int64\n",
      "\n",
      " Total Of   110526  patents, there are  71839  female, which represents 60.0 % of the total, \n",
      " and  38687  male, which represents 40.0 % of the total.\n"
     ]
    }
   ],
   "source": [
    "# number of patients grouping by 'gender' variable\n",
    "G_gender = df_medical.groupby('gender')['gender'].count()\n",
    "sum_G_gender = G_gender.sum()\n",
    "print(G_gender)\n",
    "print('\\n Total Of  ',sum_G_gender,' patents, there are ', G_gender[0], ' female, which represents', \n",
    "      round(G_gender[0]/sum_G_gender,1)*100, '% of the total,','\\n and ',G_gender[1], ' male, which represents', \n",
    "      round(G_gender[1]/sum_G_gender,1)*100, '% of the total.')"
   ]
  },
  {
   "cell_type": "code",
   "execution_count": 33,
   "metadata": {},
   "outputs": [
    {
     "data": {
      "image/png": "[encoded data removed]",
      "text/plain": [
       "<matplotlib.figure.Figure at 0x7f117c25dc18>"
      ]
     },
     "metadata": {},
     "output_type": "display_data"
    }
   ],
   "source": [
    "# draw a pie graph to show the percentage of the patients presented or not\n",
    "sizes = np.array([G_gender[0], G_gender[1]])\n",
    "labels = 'female', 'male'\n",
    "colors = [\"lightskyblue\", \"gold\"]\n",
    "explode = [0.2, 0]\n",
    "plt.pie(sizes, labels = labels, colors = colors, explode = explode, shadow = True, autopct = '%.2f%%', radius = 1.5)\n",
    "plt.title('Percentage of present patients', fontsize = 17, loc = 'center', color = 'k')\n",
    "plt.axis('equal') \n",
    "plt.show()"
   ]
  },
  {
   "cell_type": "markdown",
   "metadata": {},
   "source": [
    "\n",
    "\n",
    "- 65% of total patients are females.\n",
    "- 35% of total patients are males."
   ]
  },
  {
   "cell_type": "markdown",
   "metadata": {},
   "source": [
    "\n",
    "\n",
    "<a id='3'></a>\n",
    "<div class=\"alert alert-block alert-warning\">\n",
    "    <p><b> \n",
    "3-what's the Rate of no-showing up regarding for each Gender?</p></div>\n"
   ]
  },
  {
   "cell_type": "code",
   "execution_count": 34,
   "metadata": {},
   "outputs": [
    {
     "data": {
      "text/html": [
       "<div>\n",
       "<style scoped>\n",
       "    .dataframe tbody tr th:only-of-type {\n",
       "        vertical-align: middle;\n",
       "    }\n",
       "\n",
       "    .dataframe tbody tr th {\n",
       "        vertical-align: top;\n",
       "    }\n",
       "\n",
       "    .dataframe thead th {\n",
       "        text-align: right;\n",
       "    }\n",
       "</style>\n",
       "<table border=\"1\" class=\"dataframe\">\n",
       "  <thead>\n",
       "    <tr style=\"text-align: right;\">\n",
       "      <th></th>\n",
       "      <th></th>\n",
       "      <th>count</th>\n",
       "    </tr>\n",
       "    <tr>\n",
       "      <th>gender</th>\n",
       "      <th>appointment</th>\n",
       "      <th></th>\n",
       "    </tr>\n",
       "  </thead>\n",
       "  <tbody>\n",
       "    <tr>\n",
       "      <th rowspan=\"2\" valign=\"top\">Female</th>\n",
       "      <th>Show</th>\n",
       "      <td>57245</td>\n",
       "    </tr>\n",
       "    <tr>\n",
       "      <th>No Show</th>\n",
       "      <td>14594</td>\n",
       "    </tr>\n",
       "    <tr>\n",
       "      <th rowspan=\"2\" valign=\"top\">Male</th>\n",
       "      <th>Show</th>\n",
       "      <td>30962</td>\n",
       "    </tr>\n",
       "    <tr>\n",
       "      <th>No Show</th>\n",
       "      <td>7725</td>\n",
       "    </tr>\n",
       "  </tbody>\n",
       "</table>\n",
       "</div>"
      ],
      "text/plain": [
       "                    count\n",
       "gender appointment       \n",
       "Female Show         57245\n",
       "       No Show      14594\n",
       "Male   Show         30962\n",
       "       No Show       7725"
      ]
     },
     "execution_count": 34,
     "metadata": {},
     "output_type": "execute_result"
    }
   ],
   "source": [
    "plot2=df_medical.groupby(['gender','appointment']).appointment.agg(['count'])\n",
    "plot2"
   ]
  },
  {
   "cell_type": "code",
   "execution_count": 35,
   "metadata": {},
   "outputs": [
    {
     "data": {
      "image/png": "[encoded data removed]",
      "text/plain": [
       "<matplotlib.figure.Figure at 0x7f117c546f28>"
      ]
     },
     "metadata": {
      "needs_background": "light"
     },
     "output_type": "display_data"
    }
   ],
   "source": [
    "df_medical.groupby(['gender','appointment']).size().unstack().plot(kind='bar',stacked=True)\n",
    "plt.show()"
   ]
  },
  {
   "cell_type": "code",
   "execution_count": 36,
   "metadata": {},
   "outputs": [
    {
     "name": "stdout",
     "output_type": "stream",
     "text": [
      "103\n"
     ]
    },
    {
     "data": {
      "text/plain": [
       "array([  0,   1,   2,   3,   4,   5,   6,   7,   8,   9,  10,  11,  12,\n",
       "        13,  14,  15,  16,  17,  18,  19,  20,  21,  22,  23,  24,  25,\n",
       "        26,  27,  28,  29,  30,  31,  32,  33,  34,  35,  36,  37,  38,\n",
       "        39,  40,  41,  42,  43,  44,  45,  46,  47,  48,  49,  50,  51,\n",
       "        52,  53,  54,  55,  56,  57,  58,  59,  60,  61,  62,  63,  64,\n",
       "        65,  66,  67,  68,  69,  70,  71,  72,  73,  74,  75,  76,  77,\n",
       "        78,  79,  80,  81,  82,  83,  84,  85,  86,  87,  88,  89,  90,\n",
       "        91,  92,  93,  94,  95,  96,  97,  98,  99, 100, 102, 115])"
      ]
     },
     "execution_count": 36,
     "metadata": {},
     "output_type": "execute_result"
    }
   ],
   "source": [
    "# unique values\n",
    "print(df_medical.age.nunique())\n",
    "np.sort(df_medical.age.unique())"
   ]
  },
  {
   "cell_type": "markdown",
   "metadata": {},
   "source": [
    "observation:\n",
    "\n",
    "there are 103 different ages."
   ]
  },
  {
   "cell_type": "code",
   "execution_count": 37,
   "metadata": {},
   "outputs": [
    {
     "data": {
      "text/plain": [
       "60 - 79    46480\n",
       "20 - 39    28870\n",
       "3 - 19     22981\n",
       "0 - 2       7430\n",
       "80 - 97     3345\n",
       "40 - 59     1402\n",
       "98-115        18\n",
       "Name: age_category, dtype: int64"
      ]
     },
     "execution_count": 37,
     "metadata": {},
     "output_type": "execute_result"
    }
   ],
   "source": [
    "# frequency \n",
    "df_medical.age_category.value_counts()"
   ]
  },
  {
   "cell_type": "markdown",
   "metadata": {},
   "source": [
    "the most frequent age is 0, i think  there are a babies and that under one year i think they register it 0 for that "
   ]
  },
  {
   "cell_type": "code",
   "execution_count": 38,
   "metadata": {},
   "outputs": [
    {
     "data": {
      "image/png": "[encoded data removed]",
      "text/plain": [
       "<matplotlib.figure.Figure at 0x7f117c4409e8>"
      ]
     },
     "metadata": {
      "needs_background": "light"
     },
     "output_type": "display_data"
    }
   ],
   "source": [
    "# simple histogram of 'age' variable\n",
    "plt.hist(df_medical.age,bins=10);"
   ]
  },
  {
   "cell_type": "markdown",
   "metadata": {},
   "source": [
    " visualize  two dataframes frames one for 'female' and another for 'male'\n"
   ]
  },
  {
   "cell_type": "code",
   "execution_count": 39,
   "metadata": {},
   "outputs": [
    {
     "data": {
      "image/png": "[encoded data removed]",
      "text/plain": [
       "<matplotlib.figure.Figure at 0x7f117c56be80>"
      ]
     },
     "metadata": {
      "needs_background": "light"
     },
     "output_type": "display_data"
    }
   ],
   "source": [
    "female = df_medical[df_medical.gender == 'Female']\n",
    "male = df_medical[df_medical.gender == 'Male']\n",
    "# histogram for each Gender\n",
    "female.age.hist(label='Female', alpha=0.5, bins=10)\n",
    "male.age.hist(label='Male', alpha=0.5, bins=10)\n",
    "plt.ylabel('count of patients')\n",
    "plt.xlabel('age')\n",
    "plt.title('Distribution of age by gender')\n",
    "plt.legend();"
   ]
  },
  {
   "cell_type": "markdown",
   "metadata": {},
   "source": [
    "observation:\n",
    "i think the duration of children i think male and female the same but after that the number of distribution for female more than the males \n"
   ]
  },
  {
   "cell_type": "markdown",
   "metadata": {},
   "source": [
    "<a id='4'></a>\n",
    "<div class=\"alert alert-block alert-warning\">\n",
    "    <p><b> \n",
    "4- How many number of patients gender (female and are male) regarding for age category ?</p></div>"
   ]
  },
  {
   "cell_type": "code",
   "execution_count": 40,
   "metadata": {},
   "outputs": [
    {
     "name": "stdout",
     "output_type": "stream",
     "text": [
      "age_category\n",
      "0 - 2       7430\n",
      "3 - 19     22981\n",
      "20 - 39    28870\n",
      "40 - 59     1402\n",
      "60 - 79    46480\n",
      "80 - 97     3345\n",
      "98-115        18\n",
      "Name: age_category, dtype: int64\n",
      "\n",
      " From  110526  patents, there are: \n",
      " - 7430  in [0 - 2] category, which represents 6.7 % of the total,\n",
      " - 22981  in [3 - 19] category, which represents 20.8 % of the total,\n",
      " - 28870  in [20 - 39] category, which represents 26.1 % of the total,\n",
      " - 1402  in [40 - 59] category, which represents 1.27 % of the total,\n",
      " - 46480  in [60 - 79] category, which represents 42.1 % of the total,\n",
      " - 3345  in [80 - 97] category, which represents 3.03 % of the total,\n",
      " - 18  in [98 - 115] category, which represents 0.02 % of the total,\n"
     ]
    }
   ],
   "source": [
    "G_age = df_medical.groupby('age_category')['age_category'].count()\n",
    "sum_G_age = G_age.sum()\n",
    "print(G_age)\n",
    "print('\\n From ',sum_G_age,' patents, there are: \\n -', G_age[0], ' in [0 - 2] category, which represents', \n",
    "      round(G_age[0]/sum_G_age,3)*100, '% of the total,\\n -', G_age[1], ' in [3 - 19] category, which represents', \n",
    "      round(G_age[1]/sum_G_age,3)*100, '% of the total,\\n -', G_age[2], ' in [20 - 39] category, which represents', \n",
    "      round(G_age[2]/sum_G_age,3)*100, '% of the total,\\n -', G_age[3], ' in [40 - 59] category, which represents', \n",
    "      round(G_age[3]/sum_G_age,4)*100, '% of the total,\\n -', G_age[4], ' in [60 - 79] category, which represents', \n",
    "      round(G_age[4]/sum_G_age,3)*100, '% of the total,\\n -', G_age[5], ' in [80 - 97] category, which represents', \n",
    "      round(G_age[5]/sum_G_age,4)*100, '% of the total,\\n -', G_age[6], ' in [98 - 115] category, which represents', \n",
    "      round(G_age[6]/sum_G_age,4)*100, '% of the total,')"
   ]
  },
  {
   "cell_type": "markdown",
   "metadata": {},
   "source": [
    "observations: according to this bar chart of age category, we notice that:\n",
    "\n",
    "- the two categories ([0 - 39] and [60 - 79]) are the most frequent,\n",
    "- the category of  ([80 - 97]) is the least frequent.\n",
    "- [98-115] outlier data and i recommend to drop but i saved it \n"
   ]
  },
  {
   "cell_type": "markdown",
   "metadata": {},
   "source": [
    "-------------------------------------------------"
   ]
  },
  {
   "cell_type": "markdown",
   "metadata": {},
   "source": [
    "<a id='5'></a>\n",
    "<div class=\"alert alert-block alert-warning\"> \n",
    "    <b>5- show and retreive the table that has  no-showing rate for each age category?</b></div>"
   ]
  },
  {
   "cell_type": "markdown",
   "metadata": {},
   "source": [
    "number of patients grouping by 'age_category' \n"
   ]
  },
  {
   "cell_type": "code",
   "execution_count": 41,
   "metadata": {},
   "outputs": [
    {
     "name": "stdout",
     "output_type": "stream",
     "text": [
      "scholarship\n",
      "No Scholarship    99665\n",
      "Scholarship       10861\n",
      "Name: scholarship, dtype: int64\n",
      "\n",
      " Number of   110526  patents, there are  10861  who have a scholarship, which represents 9.8 % of the total, \n",
      " and  99665  who haven not a scholarship, which represents 90.2 % of the total.\n"
     ]
    }
   ],
   "source": [
    "G_scholarship = df_medical.groupby('scholarship')['scholarship'].count()\n",
    "sum_G_scholarship = G_scholarship.sum()\n",
    "print(G_scholarship)\n",
    "print('\\n Number of  ',sum_G_scholarship,' patents, there are ', G_scholarship[1], ' who have a scholarship, which represents', \n",
    "      round(G_scholarship[1]/sum_G_scholarship,3)*100, '% of the total,','\\n and ',G_scholarship[0], ' who haven not a scholarship, which represents', \n",
    "      round(G_scholarship[0]/sum_G_scholarship,3)*100, '% of the total.')"
   ]
  },
  {
   "cell_type": "code",
   "execution_count": 42,
   "metadata": {},
   "outputs": [
    {
     "data": {
      "image/png": "[encoded data removed]",
      "text/plain": [
       "<matplotlib.figure.Figure at 0x7f117c2ee9b0>"
      ]
     },
     "metadata": {},
     "output_type": "display_data"
    }
   ],
   "source": [
    "# draw a pie graph to show the percentage of the patients presented or not\n",
    "sizes = np.array([G_scholarship[0], G_scholarship[1]])\n",
    "labels = 'No Scholarship', 'Scholarship'\n",
    "colors = [\"lightskyblue\", \"gold\"]\n",
    "explode = [0.2, 0]\n",
    "plt.pie(sizes, labels = labels, colors = colors, explode = explode, shadow = True, autopct = '%.2f%%', radius = 1.5)\n",
    "plt.title('Percentage of present patients', fontsize = 17, loc = 'center', color = 'k')\n",
    "plt.axis('equal') \n",
    "plt.show()"
   ]
  },
  {
   "cell_type": "code",
   "execution_count": 43,
   "metadata": {},
   "outputs": [
    {
     "name": "stdout",
     "output_type": "stream",
     "text": [
      "hypertension\n",
      "No Hypertension    88725\n",
      "Hypertension       21801\n",
      "Name: hypertension, dtype: int64\n",
      "\n",
      " From  110526  patents, there are  21801  who have an hypertension, which represents 19.7 % of the total, \n",
      " and  88725  who haven not an hypertension, which represents 80.28 % of the total.\n"
     ]
    }
   ],
   "source": [
    "# number of patients grouping by 'hypertension' variable\n",
    "hy = df_medical.groupby('hypertension')['hypertension'].count()\n",
    "sumhy = hy.sum()\n",
    "print(hy)\n",
    "print('\\n From ',sumhy,' patents, there are ', hy[1], ' who have an hypertension, which represents', \n",
    "      round(hy[1]/sumhy,3)*100, '% of the total,','\\n and ',hy[0], ' who haven not an hypertension, which represents', \n",
    "      round(hy[0]/sumhy,4)*100, '% of the total.')"
   ]
  },
  {
   "cell_type": "code",
   "execution_count": 44,
   "metadata": {},
   "outputs": [
    {
     "data": {
      "image/png": "[encoded data removed]",
      "text/plain": [
       "<matplotlib.figure.Figure at 0x7f117c2ee080>"
      ]
     },
     "metadata": {},
     "output_type": "display_data"
    }
   ],
   "source": [
    "# draw a pie graph to show the percentage of the patients presented or not\n",
    "sizes = np.array([hy[0], hy[1]])\n",
    "labels = 'No Hypertension', 'Hypertension       '\n",
    "colors = [\"lightskyblue\", \"gold\"]\n",
    "explode = [0.2, 0]\n",
    "plt.pie(sizes, labels = labels, colors = colors, explode = explode, shadow = True, autopct = '%.2f%%', radius = 1.5)\n",
    "plt.title('Percentage of present patients', fontsize = 17, loc = 'center', color = 'k')\n",
    "plt.axis('equal') \n",
    "plt.show()"
   ]
  },
  {
   "cell_type": "code",
   "execution_count": 45,
   "metadata": {},
   "outputs": [
    {
     "name": "stdout",
     "output_type": "stream",
     "text": [
      "diabetes\n",
      "No Diabetes    102583\n",
      "Diabetes         7943\n",
      "Name: diabetes, dtype: int64\n",
      "\n",
      " number of   110526  patents, there are  7943  who have an diabetes, which represents 7.19 % of the total, \n",
      " and  102583  who haven not an diabetes, which represents 92.81 % of the total.\n"
     ]
    }
   ],
   "source": [
    "G_d = df_medical.groupby('diabetes')['diabetes'].count()\n",
    "sumG_d = G_d.sum()\n",
    "print(G_d)\n",
    "print('\\n number of  ',sumG_d,' patents, there are ', G_d[1], ' who have an diabetes, which represents', \n",
    "      round(G_d[1]/sumG_d,4)*100, '% of the total,','\\n and ',G_d[0], ' who haven not an diabetes, which represents', \n",
    "      round(G_d[0]/sumG_d,4)*100, '% of the total.')"
   ]
  },
  {
   "cell_type": "code",
   "execution_count": 46,
   "metadata": {},
   "outputs": [
    {
     "data": {
      "image/png": "[encoded data removed]",
      "text/plain": [
       "<matplotlib.figure.Figure at 0x7f117c2f80f0>"
      ]
     },
     "metadata": {},
     "output_type": "display_data"
    }
   ],
   "source": [
    "sizes = np.array([G_d[0], G_d[1]])\n",
    "labels = 'No Diabetes', 'Diabetes'\n",
    "colors = [\"lightskyblue\", \"gold\"]\n",
    "explode = [0.2, 0]\n",
    "plt.pie(sizes, labels = labels, colors = colors, explode = explode, shadow = True, autopct = '%.2f%%', radius = 1.5)\n",
    "plt.title('Percentage of present patients', fontsize = 17, loc = 'center', color = 'k')\n",
    "plt.axis('equal') \n",
    "plt.show()"
   ]
  },
  {
   "cell_type": "code",
   "execution_count": 47,
   "metadata": {},
   "outputs": [
    {
     "data": {
      "text/plain": [
       "Index(['gender', 'scheduled_day', 'age', 'scholarship', 'hypertension',\n",
       "       'diabetes', 'alcoholism', 'handicap', 'sms_received', 'appointment',\n",
       "       'age_category'],\n",
       "      dtype='object')"
      ]
     },
     "execution_count": 47,
     "metadata": {},
     "output_type": "execute_result"
    }
   ],
   "source": [
    "df_medical.columns"
   ]
  },
  {
   "cell_type": "markdown",
   "metadata": {},
   "source": [
    "<a id='6'></a>\n",
    "<div class=\"alert alert-block alert-warning\"> \n",
    "    <b>6-Collect How many patients have( hypertension / don't have it)?</b></div>\n"
   ]
  },
  {
   "cell_type": "code",
   "execution_count": 48,
   "metadata": {},
   "outputs": [
    {
     "name": "stdout",
     "output_type": "stream",
     "text": [
      "hypertension\n",
      "No Hypertension    88725\n",
      "Hypertension       21801\n",
      "Name: hypertension, dtype: int64\n",
      "\n",
      " number of   110526  patents, there are  21801  who have an diabetes, which represents 19.72 % of the total, \n",
      " and  88725  who haven not an diabetes, which represents 80.28 % of the total.\n"
     ]
    },
    {
     "data": {
      "image/png": "[encoded data removed]",
      "text/plain": [
       "<matplotlib.figure.Figure at 0x7f117c5143c8>"
      ]
     },
     "metadata": {},
     "output_type": "display_data"
    }
   ],
   "source": [
    "G_h= df_medical.groupby('hypertension')['hypertension'].count()\n",
    "sumG_h = G_h.sum()\n",
    "print(G_h)\n",
    "print('\\n number of  ',sumG_h,' patents, there are ', G_h[1], ' who have an diabetes, which represents', \n",
    "      round(G_h[1]/sumG_h,4)*100, '% of the total,','\\n and ',G_h[0], ' who haven not an diabetes, which represents', \n",
    "      round(G_h[0]/sumG_h,4)*100, '% of the total.')\n",
    "sizes = np.array([G_h[0], G_h[1]])\n",
    "labels = 'No Diabetes', 'Diabetes'\n",
    "colors = [\"lightskyblue\", \"gold\"]\n",
    "explode = [0.2, 0]\n",
    "plt.pie(sizes, labels = labels, colors = colors, explode = explode, shadow = True, autopct = '%.2f%%', radius = 1.5)\n",
    "plt.title('Percentage of present patients', fontsize = 17, loc = 'center', color = 'k')\n",
    "plt.axis('equal') \n",
    "plt.show()"
   ]
  },
  {
   "cell_type": "code",
   "execution_count": 49,
   "metadata": {},
   "outputs": [
    {
     "name": "stdout",
     "output_type": "stream",
     "text": [
      "                             count\n",
      "hypertension    appointment       \n",
      "No Hypertension Show         70178\n",
      "                No Show      18547\n",
      "Hypertension    Show         18029\n",
      "                No Show       3772\n"
     ]
    },
    {
     "data": {
      "image/png": "[encoded data removed]",
      "text/plain": [
       "<matplotlib.figure.Figure at 0x7f117c445ba8>"
      ]
     },
     "metadata": {
      "needs_background": "light"
     },
     "output_type": "display_data"
    }
   ],
   "source": [
    "plot2=df_medical.groupby(['hypertension','appointment']).hypertension.agg(['count'])\n",
    "print(plot2)\n",
    "df_medical.groupby(['hypertension','appointment']).size().unstack().plot(kind='bar',stacked=True)\n",
    "plt.show()"
   ]
  },
  {
   "cell_type": "markdown",
   "metadata": {},
   "source": [
    "Hypertension for no_show ver low more than else"
   ]
  },
  {
   "cell_type": "markdown",
   "metadata": {},
   "source": [
    "<a id='7'></a>\n",
    "<div class=\"alert alert-block alert-warning\"> \n",
    "    <b>7- what's the rate of no-showing up at the appointment for each situation of diseases feature  by age category?</b></div>\n"
   ]
  },
  {
   "cell_type": "code",
   "execution_count": 50,
   "metadata": {},
   "outputs": [
    {
     "name": "stdout",
     "output_type": "stream",
     "text": [
      "                                          count\n",
      "age_category hypertension    appointment       \n",
      "0 - 2        No Hypertension Show          6124\n",
      "                             No Show       1306\n",
      "3 - 19       No Hypertension Show         17516\n",
      "                             No Show       5422\n",
      "             Hypertension    Show            30\n",
      "                             No Show         13\n",
      "20 - 39      No Hypertension Show         20947\n",
      "                             No Show       6367\n",
      "             Hypertension    Show          1243\n",
      "                             No Show        313\n",
      "40 - 59      No Hypertension Show           941\n",
      "                             No Show        266\n",
      "             Hypertension    Show           160\n",
      "                             No Show         35\n",
      "60 - 79      No Hypertension Show         23582\n",
      "                             No Show       5009\n",
      "             Hypertension    Show         14851\n",
      "                             No Show       3038\n",
      "80 - 97      No Hypertension Show          1061\n",
      "                             No Show        174\n",
      "             Hypertension    Show          1738\n",
      "                             No Show        372\n",
      "98-115       No Hypertension Show             7\n",
      "                             No Show          3\n",
      "             Hypertension    Show             7\n",
      "                             No Show          1\n"
     ]
    },
    {
     "data": {
      "image/png": "[encoded data removed]",
      "text/plain": [
       "<matplotlib.figure.Figure at 0x7f117c4458d0>"
      ]
     },
     "metadata": {
      "needs_background": "light"
     },
     "output_type": "display_data"
    },
    {
     "data": {
      "text/plain": [
       "count    23582\n",
       "dtype: int64"
      ]
     },
     "execution_count": 50,
     "metadata": {},
     "output_type": "execute_result"
    }
   ],
   "source": [
    "plot2=df_medical.groupby(['age_category','hypertension','appointment']).hypertension.agg(['count'])\n",
    "print(plot2)\n",
    "df_medical.groupby(['hypertension','appointment']).size().unstack().plot(kind='bar',stacked=True)\n",
    "plt.show()\n",
    "\n",
    "plot2.max()"
   ]
  },
  {
   "cell_type": "markdown",
   "metadata": {},
   "source": [
    "observation \n",
    "\n",
    "- 60 - 79      No Hypertension Show         23582\n",
    "<p>\n",
    "most frequency ages between 60-79 for  No Hypertension and appear in appointment that mean that duration of age and not has any Hypertension able to show an  appointment</p>"
   ]
  },
  {
   "cell_type": "code",
   "execution_count": 51,
   "metadata": {},
   "outputs": [
    {
     "name": "stdout",
     "output_type": "stream",
     "text": [
      "                         count\n",
      "diabetes    appointment       \n",
      "No Diabetes Show         81694\n",
      "            No Show      20889\n",
      "Diabetes    Show          6513\n",
      "            No Show       1430\n"
     ]
    },
    {
     "data": {
      "image/png": "[encoded data removed]",
      "text/plain": [
       "<matplotlib.figure.Figure at 0x7f117c25d898>"
      ]
     },
     "metadata": {
      "needs_background": "light"
     },
     "output_type": "display_data"
    }
   ],
   "source": [
    "plot2=df_medical.groupby(['diabetes','appointment']).hypertension.agg(['count'])\n",
    "print(plot2)\n",
    "df_medical.groupby(['diabetes','appointment']).size().unstack().plot(kind='bar',stacked=True)\n",
    "plt.show()"
   ]
  },
  {
   "cell_type": "code",
   "execution_count": 52,
   "metadata": {},
   "outputs": [
    {
     "name": "stdout",
     "output_type": "stream",
     "text": [
      "                           count\n",
      "alcoholism    appointment       \n",
      "No alcoholism Show         85524\n",
      "              No Show      21642\n",
      "alcoholism    Show          2683\n",
      "              No Show        677\n"
     ]
    },
    {
     "data": {
      "image/png": "[encoded data removed]",
      "text/plain": [
       "<matplotlib.figure.Figure at 0x7f117c28bd30>"
      ]
     },
     "metadata": {
      "needs_background": "light"
     },
     "output_type": "display_data"
    }
   ],
   "source": [
    "plot2=df_medical.groupby(['alcoholism','appointment']).hypertension.agg(['count'])\n",
    "print(plot2)\n",
    "df_medical.groupby(['alcoholism','appointment']).size().unstack().plot(kind='bar',stacked=True)\n",
    "plt.show()"
   ]
  },
  {
   "cell_type": "code",
   "execution_count": 53,
   "metadata": {},
   "outputs": [
    {
     "name": "stdout",
     "output_type": "stream",
     "text": [
      "                         count\n",
      "handicap    appointment       \n",
      "No handicap Show         86373\n",
      "            No Show      21912\n",
      "handicap    Show          1834\n",
      "            No Show        407\n"
     ]
    },
    {
     "data": {
      "image/png": "[encoded data removed]",
      "text/plain": [
       "<matplotlib.figure.Figure at 0x7f117c40c358>"
      ]
     },
     "metadata": {
      "needs_background": "light"
     },
     "output_type": "display_data"
    }
   ],
   "source": [
    "plot2=df_medical.groupby(['handicap','appointment']).hypertension.agg(['count'])\n",
    "print(plot2)\n",
    "df_medical.groupby(['handicap','appointment']).size().unstack().plot(kind='bar',stacked=True)\n",
    "plt.show()"
   ]
  },
  {
   "cell_type": "markdown",
   "metadata": {},
   "source": [
    "<a id='8'></a>\n",
    "<div class=\"alert alert-block alert-warning\"> \n",
    "    <b>8- what the corrlation between (age/Apointment)and that will effect into of no-showing up at the appointment? </b></div>\n"
   ]
  },
  {
   "cell_type": "code",
   "execution_count": 54,
   "metadata": {},
   "outputs": [
    {
     "name": "stdout",
     "output_type": "stream",
     "text": [
      "                          count\n",
      "age_category appointment       \n",
      "0 - 2        Show          6124\n",
      "             No Show       1306\n",
      "3 - 19       Show         17546\n",
      "             No Show       5435\n",
      "20 - 39      Show         22190\n",
      "             No Show       6680\n",
      "40 - 59      Show          1101\n",
      "             No Show        301\n",
      "60 - 79      Show         38433\n",
      "             No Show       8047\n",
      "80 - 97      Show          2799\n",
      "             No Show        546\n",
      "98-115       Show            14\n",
      "             No Show          4\n"
     ]
    },
    {
     "data": {
      "image/png": "[encoded data removed]",
      "text/plain": [
       "<matplotlib.figure.Figure at 0x7f117c43bef0>"
      ]
     },
     "metadata": {
      "needs_background": "light"
     },
     "output_type": "display_data"
    },
    {
     "name": "stdout",
     "output_type": "stream",
     "text": [
      "count    38433\n",
      "dtype: int64\n"
     ]
    }
   ],
   "source": [
    "plot2=df_medical.groupby(['age_category','appointment']).hypertension.agg(['count'])\n",
    "print(plot2)\n",
    "df_medical.groupby(['age_category','appointment']).size().unstack().plot(kind='bar',stacked=True)\n",
    "plt.show()\n",
    "print(plot2.max())"
   ]
  },
  {
   "cell_type": "markdown",
   "metadata": {},
   "source": [
    "- 60 - 79      Show         38433\n",
    "#### observation \n",
    "<p><b>as in general in this interval 60-79 most patient appear show appointment with no any diseases they have</p></b>"
   ]
  },
  {
   "cell_type": "markdown",
   "metadata": {},
   "source": [
    "<a id='9'></a>\n",
    "<div class=\"alert alert-block alert-warning\"> \n",
    "    <b>9- what the corrlation between (age / Handcap)and that will effect into of no-showing up at the appointment?</b></div>\n"
   ]
  },
  {
   "cell_type": "code",
   "execution_count": 55,
   "metadata": {},
   "outputs": [
    {
     "name": "stdout",
     "output_type": "stream",
     "text": [
      "                          count\n",
      "age_category handicap          \n",
      "0 - 2        No handicap   7427\n",
      "             handicap         3\n",
      "3 - 19       No handicap  22692\n",
      "             handicap       289\n",
      "20 - 39      No handicap  28418\n",
      "             handicap       452\n",
      "40 - 59      No handicap   1391\n",
      "             handicap        11\n",
      "60 - 79      No handicap  45254\n",
      "             handicap      1226\n",
      "80 - 97      No handicap   3091\n",
      "             handicap       254\n",
      "98-115       No handicap     12\n",
      "             handicap         6\n"
     ]
    },
    {
     "data": {
      "image/png": "[encoded data removed]",
      "text/plain": [
       "<matplotlib.figure.Figure at 0x7f117c1c6b38>"
      ]
     },
     "metadata": {
      "needs_background": "light"
     },
     "output_type": "display_data"
    }
   ],
   "source": [
    "plot2=df_medical.groupby(['age_category','handicap']).hypertension.agg(['count'])\n",
    "print(plot2)\n",
    "df_medical.groupby(['age_category','handicap']).size().unstack().plot(kind='bar',stacked=True)\n",
    "plt.show()"
   ]
  },
  {
   "cell_type": "markdown",
   "metadata": {},
   "source": [
    "as in general in this interval 60-79 most patient appear show appointment with no any handicap"
   ]
  },
  {
   "cell_type": "markdown",
   "metadata": {},
   "source": [
    "<a id='10'></a>\n",
    "<div class=\"alert alert-block alert-warning\"> \n",
    "    <b>10-what the corrlation between (age / gender)and that will effect into of no-showing up at the appointment </b></div>\n"
   ]
  },
  {
   "cell_type": "code",
   "execution_count": 56,
   "metadata": {},
   "outputs": [
    {
     "name": "stdout",
     "output_type": "stream",
     "text": [
      "                                 count\n",
      "age_category gender appointment       \n",
      "0 - 2        Female Show          2934\n",
      "                    No Show        632\n",
      "             Male   Show          3190\n",
      "                    No Show        674\n",
      "3 - 19       Female Show          9553\n",
      "                    No Show       2958\n",
      "             Male   Show          7993\n",
      "                    No Show       2477\n",
      "20 - 39      Female Show         16047\n",
      "                    No Show       4850\n",
      "             Male   Show          6143\n",
      "                    No Show       1830\n",
      "40 - 59      Female Show           715\n",
      "                    No Show        208\n",
      "             Male   Show           386\n",
      "                    No Show         93\n",
      "60 - 79      Female Show         26081\n",
      "                    No Show       5577\n",
      "             Male   Show         12352\n",
      "                    No Show       2470\n",
      "80 - 97      Female Show          1904\n",
      "                    No Show        365\n",
      "             Male   Show           895\n",
      "                    No Show        181\n",
      "98-115       Female Show            11\n",
      "                    No Show          4\n",
      "             Male   Show             3\n"
     ]
    },
    {
     "data": {
      "image/png": "[encoded data removed]",
      "text/plain": [
       "<matplotlib.figure.Figure at 0x7f117c10d518>"
      ]
     },
     "metadata": {
      "needs_background": "light"
     },
     "output_type": "display_data"
    },
    {
     "name": "stdout",
     "output_type": "stream",
     "text": [
      "count    26081\n",
      "dtype: int64\n"
     ]
    }
   ],
   "source": [
    "plot2=df_medical.groupby(['age_category','gender','appointment']).appointment.agg(['count'])\n",
    "print(plot2)\n",
    "df_medical.groupby(['age_category','gender','appointment']).size().unstack().plot(kind='bar',stacked=True)\n",
    "plt.show()\n",
    "print(plot2.max())"
   ]
  },
  {
   "cell_type": "markdown",
   "metadata": {},
   "source": [
    "another methode "
   ]
  },
  {
   "cell_type": "code",
   "execution_count": 63,
   "metadata": {},
   "outputs": [
    {
     "ename": "AttributeError",
     "evalue": "module 'seaborn' has no attribute 'catplot'",
     "output_type": "error",
     "traceback": [
      "\u001b[0;31m---------------------------------------------------------------------------\u001b[0m",
      "\u001b[0;31mAttributeError\u001b[0m                            Traceback (most recent call last)",
      "\u001b[0;32m<ipython-input-63-ca7044c2e9a5>\u001b[0m in \u001b[0;36m<module>\u001b[0;34m()\u001b[0m\n\u001b[1;32m      1\u001b[0m \u001b[0;32mimport\u001b[0m \u001b[0mseaborn\u001b[0m \u001b[0;32mas\u001b[0m \u001b[0msns\u001b[0m\u001b[0;34m\u001b[0m\u001b[0m\n\u001b[0;32m----> 2\u001b[0;31m \u001b[0max\u001b[0m\u001b[0;34m=\u001b[0m\u001b[0msns\u001b[0m\u001b[0;34m.\u001b[0m\u001b[0mcatplot\u001b[0m\u001b[0;34m(\u001b[0m\u001b[0mx\u001b[0m\u001b[0;34m=\u001b[0m\u001b[0;34m'age_category'\u001b[0m\u001b[0;34m,\u001b[0m\u001b[0mhue\u001b[0m\u001b[0;34m=\u001b[0m\u001b[0;34m'gender'\u001b[0m\u001b[0;34m,\u001b[0m\u001b[0mcol\u001b[0m\u001b[0;34m=\u001b[0m\u001b[0;34m'appointment'\u001b[0m\u001b[0;34m,\u001b[0m\u001b[0mdata\u001b[0m\u001b[0;34m=\u001b[0m\u001b[0mdf_medical\u001b[0m\u001b[0;34m,\u001b[0m\u001b[0mkind\u001b[0m\u001b[0;34m=\u001b[0m\u001b[0;34m\"count\"\u001b[0m\u001b[0;34m,\u001b[0m\u001b[0mpalette\u001b[0m\u001b[0;34m=\u001b[0m\u001b[0;34m'viridis'\u001b[0m\u001b[0;34m)\u001b[0m\u001b[0;34m\u001b[0m\u001b[0m\n\u001b[0m\u001b[1;32m      3\u001b[0m \u001b[0mplt\u001b[0m\u001b[0;34m.\u001b[0m\u001b[0mrcparams\u001b[0m\u001b[0;34m[\u001b[0m\u001b[0;34m'gigure.figsize'\u001b[0m\u001b[0;34m]\u001b[0m\u001b[0;34m=\u001b[0m\u001b[0;36m10\u001b[0m\u001b[0;34m,\u001b[0m\u001b[0;36m10\u001b[0m\u001b[0;34m\u001b[0m\u001b[0m\n\u001b[1;32m      4\u001b[0m \u001b[0mplt\u001b[0m\u001b[0;34m.\u001b[0m\u001b[0msubplots_adjust\u001b[0m\u001b[0;34m(\u001b[0m\u001b[0mtop\u001b[0m\u001b[0;34m=\u001b[0m\u001b[0;36m0.8\u001b[0m\u001b[0;34m)\u001b[0m\u001b[0;31m#move position of title\u001b[0m\u001b[0;34m\u001b[0m\u001b[0m\n\u001b[1;32m      5\u001b[0m \u001b[0max\u001b[0m\u001b[0;34m.\u001b[0m\u001b[0mfig\u001b[0m\u001b[0;34m.\u001b[0m\u001b[0msuptitle\u001b[0m\u001b[0;34m(\u001b[0m\u001b[0;34m'correlation between Age/Gender and Attendence'\u001b[0m\u001b[0;34m)\u001b[0m\u001b[0;34m;\u001b[0m\u001b[0;31m#plot main title\u001b[0m\u001b[0;34m\u001b[0m\u001b[0m\n",
      "\u001b[0;31mAttributeError\u001b[0m: module 'seaborn' has no attribute 'catplot'"
     ]
    }
   ],
   "source": [
    "import seaborn as sns\n",
    "ax=sns.catplot(x='age_category',hue='gender',col='appointment',data=df_medical,kind=\"count\",palette='viridis')\n",
    "plt.rcparams['gigure.figsize']=10,10\n",
    "plt.subplots_adjust(top=0.8)#move position of title\n",
    "ax.fig.suptitle('correlation between Age/Gender and Attendence');#plot main title\n",
    "#print data:\n",
    "df_medical.groupby(['age_category','gender','appointment']).appointment.agg(['count'])\n"
   ]
  },
  {
   "cell_type": "markdown",
   "metadata": {},
   "source": [
    "- 60 - 79      Female Show         26081\n",
    "- i think femal most frequency appear in show appoint specially in the interval from 60-79 that highest number 26081\n"
   ]
  },
  {
   "cell_type": "markdown",
   "metadata": {},
   "source": [
    "<a id='conclusions'></a>\n",
    "## Conclusions\n",
    "Regarding for my introduction i choose 8 indpendent variable and one depenent varaible so after analysis the data by check for any missing data or any doublicated values i also ignore the outliers values like for up- normal value in age -1 so i will give you breife describtion about my result \n",
    "\n",
    "- no-showing rate is 20.2%, less than the overall show-up rate (79.8%).\n",
    "- The percentage of females is greater than males _ 65% > 35%.\n",
    "- 0 - 2        Female   3566 and Male     3864 they are  almost equal \n",
    "- 46480  in [60 - 79] category, which represents 42.1 % of the total\n",
    "- as in general in this interval 60-79 most patient appear show appointment with no any handicap\n",
    "- 60 - 79 No Hypertension Show 23582\n",
    "- most frequency ages between 60-79 for No Hypertension and appear in appointment that mean that in this interval of that age  not has any Hypertension able to show an appointment\n",
    "- the two categories ([0 - 39] and [60 - 79]) are the most frequent, the category of  the least frequent. [98-115] outlier data and i recommend to drop but i saved it\n",
    "- observation: i think the duration of children i think male and female the same but after that the number of distribution for female more than the males because :\n",
    "- finally i think most probabily appear in an appointment depend on no any disease they have but i think also most interval also from 60  to 79 years \n",
    "<b>i think femal most frequency appear in show appoint specially in the interval from 60-79 that highest number 26081</b>\n",
    "### References\n",
    "- https://pandas.pydata.org/\n",
    "- https://numpy.org/\n",
    "- https://matplotlib.org\n",
    "- https://www.kaggle.com/\n",
    "- https://github.com/\n",
    "- https://classroom.udacity.com/courses/ud170-nd\n",
    "- https://queirozf.com/entries/pandas-dataframe-plot-examples-with-matplotlib-pyplot\n",
    "- https://www.geeksforgeeks.org/\n"
   ]
  },
  {
   "cell_type": "code",
   "execution_count": 82,
   "metadata": {},
   "outputs": [
    {
     "data": {
      "text/plain": [
       "0"
      ]
     },
     "execution_count": 82,
     "metadata": {},
     "output_type": "execute_result"
    }
   ],
   "source": [
    "from subprocess import call\n",
    "call(['python', '-m', 'nbconvert', 'Investigate_a_Dataset.ipynb'])"
   ]
  }
 ],
 "metadata": {
  "kernelspec": {
   "display_name": "Python 3",
   "language": "python",
   "name": "python3"
  },
  "language_info": {
   "codemirror_mode": {
    "name": "ipython",
    "version": 3
   },
   "file_extension": ".py",
   "mimetype": "text/x-python",
   "name": "python",
   "nbconvert_exporter": "python",
   "pygments_lexer": "ipython3",
   "version": "3.6.3"
  }
 },
 "nbformat": 4,
 "nbformat_minor": 2
}
